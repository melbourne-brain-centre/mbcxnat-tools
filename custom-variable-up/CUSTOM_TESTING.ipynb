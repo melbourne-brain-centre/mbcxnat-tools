{
 "cells": [
  {
   "cell_type": "markdown",
   "id": "039e0287",
   "metadata": {},
   "source": [
    "# Importing data to custom variables form a csv file\n",
    "\n",
    "Inject values to custom variables in XNAT from a csv file using xnatpy "
   ]
  },
  {
   "cell_type": "code",
   "execution_count": 4,
   "id": "80462e96",
   "metadata": {},
   "outputs": [],
   "source": [
    "import xnat as x\n",
    "# import random\n",
    "import pandas as pd "
   ]
  },
  {
   "cell_type": "code",
   "execution_count": null,
   "metadata": {},
   "outputs": [],
   "source": [
    "uname = \n",
    "pword = "
   ]
  },
  {
   "cell_type": "code",
   "execution_count": 5,
   "id": "2ee3792f",
   "metadata": {},
   "outputs": [],
   "source": [
    "# Import required csv file\n",
    "df = pd.read_csv('sample.csv')\n",
    "df.set_index(keys='Subject', inplace=True)"
   ]
  },
  {
   "cell_type": "code",
   "execution_count": 7,
   "id": "2c95ae1d",
   "metadata": {},
   "outputs": [
    {
     "name": "stderr",
     "output_type": "stream",
     "text": [
      "[WARNING] Found an unsupported version (1.8.2.2), trying 1.7 compatible model builder\n"
     ]
    },
    {
     "name": "stdout",
     "output_type": "stream",
     "text": [
      "<SubjectData XTEST_002 (MBCXNAT_S00097)>\n",
      "<XNATSimpleListing {'volume': '65.71', 'qc_check': 'recheck', 'nra_scale': '2', 'ara_scale': '8'}>\n",
      "<SubjectData XTEST_004 (MBCXNAT_S00098)>\n",
      "<XNATSimpleListing {'volume': '56.65', 'qc_check': 'pass', 'nra_scale': '2', 'ara_scale': '6'}>\n",
      "<SubjectData XTEST_005 (MBCXNAT_S00099)>\n",
      "<XNATSimpleListing {'volume': '75.5', 'qc_check': 'pass', 'nra_scale': '5', 'ara_scale': '5'}>\n",
      "<SubjectData XTEST_003 (MBCXNAT_S00100)>\n",
      "<XNATSimpleListing {'volume': '51.73', 'qc_check': 'pass', 'nra_scale': '3', 'ara_scale': '6'}>\n",
      "<SubjectData XTEST_007 (MBCXNAT_S00101)>\n",
      "<XNATSimpleListing {'volume': '66.06', 'qc_check': 'recheck', 'nra_scale': '3', 'ara_scale': '8'}>\n",
      "<SubjectData XTEST_001 (MBCXNAT_S00102)>\n",
      "<XNATSimpleListing {'volume': '74.18', 'qc_check': 'pass', 'nra_scale': '4', 'ara_scale': '7'}>\n",
      "<SubjectData XTEST_009 (MBCXNAT_S00103)>\n",
      "<XNATSimpleListing {'volume': '63.95', 'qc_check': 'pass', 'nra_scale': '2', 'ara_scale': '7'}>\n",
      "<SubjectData XTEST_006 (MBCXNAT_S00104)>\n",
      "<XNATSimpleListing {'volume': '77.69', 'qc_check': 'pass', 'nra_scale': '4', 'ara_scale': '7'}>\n",
      "<SubjectData XTEST_008 (MBCXNAT_S00105)>\n",
      "<XNATSimpleListing {'volume': '0.0', 'qc_check': 'fail', 'nra_scale': '0', 'ara_scale': '0'}>\n"
     ]
    }
   ],
   "source": [
    "# Connect to remote xnat server\n",
    "with x.connect('https://xnat.thembc.com.au', user=uname, password=pword) as session:\n",
    "    xnat_project = session.projects['XNAT_DTEST']\n",
    "    for case in xnat_project.subjects.values():\n",
    "        print(case)\n",
    "        to_find = case.label\n",
    "        case.fields['volume'] = df.loc[to_find,['volume']]\n",
    "        case.fields['ara_scale'] = df.loc[to_find,['ara_scale']]\n",
    "        case.fields['nra_scale'] = df.loc[to_find,['nra_scale']]\n",
    "        case.fields['qc_check'] = df.loc[to_find,['qc_check']]\n",
    "        print(case.fields)"
   ]
  },
  {
   "cell_type": "code",
   "execution_count": null,
   "id": "f614234b",
   "metadata": {},
   "outputs": [],
   "source": [
    "session = x.connect('https://xnat.thembc.com.au', user=uname, password=pword)"
   ]
  },
  {
   "cell_type": "code",
   "execution_count": null,
   "id": "2a851503",
   "metadata": {},
   "outputs": [],
   "source": [
    "sandbox_project = session.projects['XNAT_DTEST']"
   ]
  },
  {
   "cell_type": "code",
   "execution_count": null,
   "id": "43e2b968",
   "metadata": {},
   "outputs": [],
   "source": [
    "sandbox_project.subjects.values()"
   ]
  },
  {
   "cell_type": "code",
   "execution_count": null,
   "id": "341454bd",
   "metadata": {
    "scrolled": true
   },
   "outputs": [],
   "source": [
    "for case in sandbox_project.subjects.values():\n",
    "    print(case)\n",
    "    to_find = case.label\n",
    "    case.fields['volume'] = df.loc[to_find,['volume']]\n",
    "    case.fields['ara_scale'] = df.loc[to_find,['ara_scale']]\n",
    "    case.fields['nra_scale'] = df.loc[to_find,['nra_scale']]\n",
    "    case.fields['qc_check'] = df.loc[to_find,['qc_check']]\n",
    "    print(case.fields)    "
   ]
  },
  {
   "cell_type": "code",
   "execution_count": null,
   "id": "7e85fc90",
   "metadata": {},
   "outputs": [],
   "source": [
    "for case in sandbox_project.subjects.values():\n",
    "    print(case.label)"
   ]
  },
  {
   "cell_type": "code",
   "execution_count": null,
   "id": "fe4145d2",
   "metadata": {},
   "outputs": [],
   "source": [
    "case = sandbox_project.subjects['XTEST_002']\n",
    "type(case.subject)"
   ]
  },
  {
   "cell_type": "code",
   "execution_count": 3,
   "id": "d87add18",
   "metadata": {},
   "outputs": [
    {
     "ename": "NameError",
     "evalue": "name 'session' is not defined",
     "output_type": "error",
     "traceback": [
      "\u001b[0;31m---------------------------------------------------------------------------\u001b[0m",
      "\u001b[0;31mNameError\u001b[0m                                 Traceback (most recent call last)",
      "\u001b[0;32m<ipython-input-3-53337d0aa62b>\u001b[0m in \u001b[0;36m<module>\u001b[0;34m\u001b[0m\n\u001b[0;32m----> 1\u001b[0;31m \u001b[0msession\u001b[0m\u001b[0;34m.\u001b[0m\u001b[0mdisconnect\u001b[0m\u001b[0;34m(\u001b[0m\u001b[0;34m)\u001b[0m\u001b[0;34m\u001b[0m\u001b[0;34m\u001b[0m\u001b[0m\n\u001b[0m",
      "\u001b[0;31mNameError\u001b[0m: name 'session' is not defined"
     ]
    }
   ],
   "source": [
    "session.disconnect()"
   ]
  },
  {
   "cell_type": "markdown",
   "id": "938d5768",
   "metadata": {},
   "source": [
    "## Testing"
   ]
  },
  {
   "cell_type": "code",
   "execution_count": null,
   "id": "498b9403",
   "metadata": {},
   "outputs": [],
   "source": [
    "df.loc['XTEST_005',['volume']]"
   ]
  },
  {
   "cell_type": "code",
   "execution_count": null,
   "id": "0f354a5d",
   "metadata": {
    "scrolled": true
   },
   "outputs": [],
   "source": [
    "for x, y in case.fields.items():\n",
    "  print(x, y)"
   ]
  },
  {
   "cell_type": "code",
   "execution_count": null,
   "id": "f9814157",
   "metadata": {},
   "outputs": [],
   "source": [
    "for x in case.fields:\n",
    "    print(x)"
   ]
  },
  {
   "cell_type": "code",
   "execution_count": null,
   "id": "ea8f2a77",
   "metadata": {},
   "outputs": [],
   "source": [
    "case.fields['volume']"
   ]
  },
  {
   "cell_type": "code",
   "execution_count": null,
   "id": "45be7021",
   "metadata": {
    "scrolled": false
   },
   "outputs": [],
   "source": [
    "cust_dict['volume']"
   ]
  },
  {
   "cell_type": "code",
   "execution_count": null,
   "id": "d379f3b6",
   "metadata": {},
   "outputs": [],
   "source": [
    "type(cust_dict)"
   ]
  },
  {
   "cell_type": "code",
   "execution_count": null,
   "id": "1ded62f6",
   "metadata": {},
   "outputs": [],
   "source": [
    "session.disconnect()"
   ]
  }
 ],
 "metadata": {
  "kernelspec": {
   "display_name": "Python 3",
   "language": "python",
   "name": "python3"
  },
  "language_info": {
   "codemirror_mode": {
    "name": "ipython",
    "version": 3
   },
   "file_extension": ".py",
   "mimetype": "text/x-python",
   "name": "python",
   "nbconvert_exporter": "python",
   "pygments_lexer": "ipython3",
   "version": "3.8.10"
  }
 },
 "nbformat": 4,
 "nbformat_minor": 5
}