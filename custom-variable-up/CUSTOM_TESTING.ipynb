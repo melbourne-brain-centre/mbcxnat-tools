{
 "cells": [
  {
   "cell_type": "markdown",
   "id": "039e0287",
   "metadata": {},
   "source": [
    "# Importing data to custom variables form a csv file\n",
    "\n",
    "Inject values to custom variables in XNAT from a csv file using xnatpy "
   ]
  },
  {
   "cell_type": "code",
   "execution_count": null,
   "id": "80462e96",
   "metadata": {},
   "outputs": [],
   "source": [
    "import xnat as x\n",
    "# import random\n",
    "import numpy as np\n",
    "import pandas as pd "
   ]
  },
  {
   "cell_type": "code",
   "execution_count": null,
   "id": "3664c003",
   "metadata": {},
   "outputs": [],
   "source": [
    "uname = 'gsharma'\n",
    "pword = input('pwd')"
   ]
  },
  {
   "cell_type": "code",
   "execution_count": null,
   "id": "2ee3792f",
   "metadata": {},
   "outputs": [],
   "source": [
    "# Import required csv file\n",
    "df = pd.read_csv('upload_sample.csv')\n",
    "df.columns = [x.lower() for x in df.columns]\n",
    "df.set_index(keys='subject', inplace=True)\n",
    "variables =  list(df.columns)"
   ]
  },
  {
   "cell_type": "code",
   "execution_count": null,
   "id": "0590d6b9",
   "metadata": {},
   "outputs": [],
   "source": [
    "# Let user select project\n",
    "def get_user_project(all_projects):\n",
    "    proj_list = []\n",
    "    for proj in session.projects:\n",
    "        proj_list.append(proj)\n",
    "        print(proj)\n",
    "    \n",
    "    user_input = ''\n",
    "    while user_input not in proj_list:\n",
    "        user_input = input('Select the correct project').upper()\n",
    "        \n",
    "    print(f'Selected project : {user_input}')\n",
    "    return user_input"
   ]
  },
  {
   "cell_type": "code",
   "execution_count": null,
   "id": "84b45e75",
   "metadata": {},
   "outputs": [],
   "source": [
    "def quality_check(to_find):\n",
    "    qc_check = 'pass'\n",
    "    for cvar in variables:\n",
    "        to_check = df.loc[to_find,[cvar]].values[0]\n",
    "        if np.isnan(to_check):\n",
    "            qc_check = 'fail'\n",
    "            return qc_check        \n",
    "        if cvar == 'volume':\n",
    "            if (to_check < 50) or (to_check > 80):\n",
    "                qc_check = 'recheck'\n",
    "        if cvar == 'ara_scale':\n",
    "            if (to_check < 0) or (to_check > 10):\n",
    "                qc_check = 'recheck'\n",
    "        if cvar == 'nra_scale':\n",
    "            if (to_check < 0) or (to_check > 5):\n",
    "                qc_check = 'recheck'\n",
    "    return qc_check"
   ]
  },
  {
   "cell_type": "code",
   "execution_count": null,
   "id": "2c95ae1d",
   "metadata": {},
   "outputs": [],
   "source": [
    "# Connect to remote xnat server\n",
    "with x.connect('https://xnat.thembc.com.au', user=uname, password=pword) as session:\n",
    "    \n",
    "    # List out projects and let user select\n",
    "    all_projects = session.projects\n",
    "    user_project = get_user_project(all_projects)\n",
    "    xnat_project = session.projects[user_project]\n",
    "    \n",
    "    # Loop each subject in the project\n",
    "    for case in xnat_project.subjects.values():\n",
    "        print(case)\n",
    "        \n",
    "        # Loop over and assign values from csv to required custom variable\n",
    "        to_find = case.label\n",
    "        for cvar in variables:\n",
    "            case.fields[cvar] = df.loc[to_find,[cvar]]\n",
    "        \n",
    "        # Data Quality check\n",
    "        #\n",
    "        '''\n",
    "        qc_check = 'pass'    \n",
    "        for cvar in variables:\n",
    "            to_check = df.loc[to_find,[cvar]].values[0]\n",
    "            if np.isnan(to_check):\n",
    "                qc_check = 'fail'\n",
    "                break\n",
    "            if cvar == 'volume':\n",
    "                if (to_check < 50) or (to_check > 80):\n",
    "                    qc_check = 're-check'\n",
    "            if cvar == 'ara_scale':\n",
    "                if (to_check < 0) or (to_check > 10):\n",
    "                    qc_check = 're-check'\n",
    "            if cvar == 'nra_scale':\n",
    "                if (to_check < 0) or (to_check > 5):\n",
    "                    qc_check = 're-check'\n",
    "        '''\n",
    "        qc_check = quality_check(to_find)\n",
    "        case.fields['qc_check'] = qc_check\n",
    "        print(case.fields)\n"
   ]
  },
  {
   "cell_type": "code",
   "execution_count": null,
   "id": "f614234b",
   "metadata": {},
   "outputs": [],
   "source": [
    "session = x.connect('https://xnat.thembc.com.au', user=uname, password=pword)"
   ]
  },
  {
   "cell_type": "code",
   "execution_count": null,
   "id": "2a851503",
   "metadata": {},
   "outputs": [],
   "source": [
    "sandbox_project = session.projects['XNAT_DTEST']"
   ]
  },
  {
   "cell_type": "code",
   "execution_count": null,
   "id": "43e2b968",
   "metadata": {},
   "outputs": [],
   "source": [
    "sandbox_project.subjects.values()"
   ]
  },
  {
   "cell_type": "code",
   "execution_count": null,
   "id": "341454bd",
   "metadata": {
    "scrolled": true
   },
   "outputs": [],
   "source": [
    "for case in sandbox_project.subjects.values():\n",
    "    print(case)\n",
    "    to_find = case.label\n",
    "    case.fields['volume'] = df.loc[to_find,['volume']]\n",
    "    case.fields['ara_scale'] = df.loc[to_find,['ara_scale']]\n",
    "    case.fields['nra_scale'] = df.loc[to_find,['nra_scale']]\n",
    "    case.fields['qc_check'] = df.loc[to_find,['qc_check']]\n",
    "    print(case.fields)    "
   ]
  },
  {
   "cell_type": "code",
   "execution_count": null,
   "id": "7e85fc90",
   "metadata": {},
   "outputs": [],
   "source": [
    "for case in sandbox_project.subjects.values():\n",
    "    print(case.label)"
   ]
  },
  {
   "cell_type": "code",
   "execution_count": null,
   "id": "fe4145d2",
   "metadata": {},
   "outputs": [],
   "source": [
    "case = sandbox_project.subjects['XTEST_002']\n",
    "type(case.subject)"
   ]
  },
  {
   "cell_type": "code",
   "execution_count": null,
   "id": "d87add18",
   "metadata": {},
   "outputs": [],
   "source": [
    "session.disconnect()"
   ]
  },
  {
   "cell_type": "markdown",
   "id": "938d5768",
   "metadata": {},
   "source": [
    "## Testing"
   ]
  },
  {
   "cell_type": "code",
   "execution_count": null,
   "id": "498b9403",
   "metadata": {},
   "outputs": [],
   "source": [
    "dsf"
   ]
  },
  {
   "cell_type": "code",
   "execution_count": null,
   "id": "0f354a5d",
   "metadata": {
    "scrolled": true
   },
   "outputs": [],
   "source": [
    "variables =  list(df.columns)"
   ]
  },
  {
   "cell_type": "code",
   "execution_count": null,
   "id": "f9814157",
   "metadata": {},
   "outputs": [],
   "source": [
    "variables"
   ]
  },
  {
   "cell_type": "code",
   "execution_count": null,
   "id": "ea8f2a77",
   "metadata": {},
   "outputs": [],
   "source": [
    "for var in variables:\n",
    "    case.fields[var] = df.loc[to_find,[var]]"
   ]
  },
  {
   "cell_type": "code",
   "execution_count": null,
   "id": "f64e470d",
   "metadata": {},
   "outputs": [],
   "source": [
    "def get_user_project(all_projects):\n",
    "    proj_list = []\n",
    "    for proj in session.projects:\n",
    "        proj_list.append(proj)\n",
    "        print(proj)\n",
    "    \n",
    "    user_input = ''\n",
    "    while user_input not in proj_list:\n",
    "        user_input = input('Select the correct project').upper()\n",
    "        \n",
    "    print(f'Selected project : {user_input}')\n",
    "    return user_input"
   ]
  },
  {
   "cell_type": "code",
   "execution_count": null,
   "id": "45be7021",
   "metadata": {
    "scrolled": false
   },
   "outputs": [],
   "source": [
    "with x.connect('https://xnat.thembc.com.au', user=uname, password=pword) as session:\n",
    "    all_projects = session.projects\n",
    "    user_project = get_user_project(all_projects)\n",
    "    xnat_project = session.projects[user_project]\n",
    "    for case in xnat_project.subjects.values():\n",
    "        print(case)\n",
    "        to_find = case.labeldf.loc[to_find,[cvar]]\n",
    "        for cvar in variables:\n",
    "            case.fields[cvar] = df.loc[to_find,[cvar]]\n",
    "        print(case.fields)"
   ]
  },
  {
   "cell_type": "code",
   "execution_count": null,
   "id": "9b665c95",
   "metadata": {},
   "outputs": [],
   "source": [
    "def quality_check(to_find):\n",
    "    qc_check = 'pass'\n",
    "    for cvar in variables:\n",
    "        to_check = df.loc[to_find,[cvar]].values[0]\n",
    "        print(cvar , to_check)\n",
    "        if np.isnan(to_check):\n",
    "            qc_check = 'fail'\n",
    "            return qc_check        \n",
    "        if cvar == 'volume':\n",
    "            if (to_check < 50) or (to_check > 80):\n",
    "                qc_check = 'recheck'\n",
    "        if cvar == 'ara_scale':\n",
    "            if (to_check < 0) or (to_check > 10):\n",
    "                qc_check = 'recheck'\n",
    "        if cvar == 'nra_scale':\n",
    "            if (to_check < 0) or (to_check > 5):\n",
    "                qc_check = 'recheck'\n",
    "    return qc_check\n"
   ]
  },
  {
   "cell_type": "code",
   "execution_count": null,
   "id": "d379f3b6",
   "metadata": {},
   "outputs": [],
   "source": [
    "   \n",
    "qc_check = quality_check('XTEST_008')\n",
    "print(qc_check)"
   ]
  },
  {
   "cell_type": "code",
   "execution_count": null,
   "id": "1ded62f6",
   "metadata": {},
   "outputs": [],
   "source": [
    "session.disconnect()"
   ]
  }
 ],
 "metadata": {
  "kernelspec": {
   "display_name": "Python 3",
   "language": "python",
   "name": "python3"
  },
  "language_info": {
   "codemirror_mode": {
    "name": "ipython",
    "version": 3
   },
   "file_extension": ".py",
   "mimetype": "text/x-python",
   "name": "python",
   "nbconvert_exporter": "python",
   "pygments_lexer": "ipython3",
   "version": "3.8.10"
  }
 },
 "nbformat": 4,
 "nbformat_minor": 5
}
