{
 "cells": [
  {
   "cell_type": "markdown",
   "id": "039e0287",
   "metadata": {},
   "source": [
    "# Importing data to custom variables form a csv file\n",
    "\n",
    "Inject values to custom variables in XNAT from a csv file using xnatpy "
   ]
  },
  {
   "cell_type": "code",
   "execution_count": 1,
   "id": "80462e96",
   "metadata": {},
   "outputs": [],
   "source": [
    "import xnat as x\n",
    "# import random\n",
    "import numpy as np\n",
    "import pandas as pd "
   ]
  },
  {
   "cell_type": "code",
   "execution_count": 3,
   "id": "3664c003",
   "metadata": {},
   "outputs": [
    {
     "name": "stdout",
     "output_type": "stream",
     "text": [
      "pwdMBCrmh2020#\n"
     ]
    }
   ],
   "source": [
    "uname = 'brokaha'\n",
    "pword = input('pwd')"
   ]
  },
  {
   "cell_type": "code",
   "execution_count": null,
   "id": "2ee3792f",
   "metadata": {},
   "outputs": [],
   "source": [
    "# Import required csv file\n",
    "df = pd.read_csv('upload_sample.csv')\n",
    "df.columns = [x.lower() for x in df.columns]\n",
    "df.set_index(keys='subject', inplace=True)\n",
    "variables =  list(df.columns)"
   ]
  },
  {
   "cell_type": "code",
   "execution_count": 4,
   "id": "0590d6b9",
   "metadata": {},
   "outputs": [],
   "source": [
    "# Let user select project\n",
    "def get_user_project(all_projects):\n",
    "    proj_list = []\n",
    "    for proj in session.projects:\n",
    "        proj_list.append(proj)\n",
    "        print(proj)\n",
    "    \n",
    "    user_input = ''\n",
    "    while user_input not in proj_list:\n",
    "        user_input = input('Select the correct project').upper()\n",
    "        \n",
    "    print(f'Selected project : {user_input}')\n",
    "    return user_input"
   ]
  },
  {
   "cell_type": "code",
   "execution_count": 5,
   "id": "84b45e75",
   "metadata": {},
   "outputs": [],
   "source": [
    "def quality_check(to_find):\n",
    "    qc_check = 'pass'\n",
    "    for cvar in variables:\n",
    "        to_check = df.loc[to_find,[cvar]].values[0]\n",
    "        if np.isnan(to_check):\n",
    "            qc_check = 'fail'\n",
    "            return qc_check        \n",
    "        if cvar == 'volume':\n",
    "            if (to_check < 50) or (to_check > 80):\n",
    "                qc_check = 'recheck'\n",
    "        if cvar == 'ara_scale':\n",
    "            if (to_check < 0) or (to_check > 10):\n",
    "                qc_check = 'recheck'\n",
    "        if cvar == 'nra_scale':\n",
    "            if (to_check < 0) or (to_check > 5):\n",
    "                qc_check = 'recheck'\n",
    "    return qc_check"
   ]
  },
  {
   "cell_type": "code",
   "execution_count": null,
   "id": "2c95ae1d",
   "metadata": {},
   "outputs": [],
   "source": [
    "# Connect to remote xnat server\n",
    "with x.connect('https://xnat.thembc.com.au', user=uname, password=pword) as session:\n",
    "    \n",
    "    # List out projects and let user select\n",
    "    all_projects = session.projects\n",
    "    user_project = get_user_project(all_projects)\n",
    "    xnat_project = session.projects[user_project]\n",
    "    \n",
    "    # Loop each subject in the project\n",
    "    for case in xnat_project.subjects.values():\n",
    "        print(case)\n",
    "        \n",
    "        # Loop over and assign values from csv to required custom variable\n",
    "        to_find = case.label\n",
    "        for cvar in variables:\n",
    "            case.fields[cvar] = df.loc[to_find,[cvar]]\n",
    "        \n",
    "        # Data Quality check\n",
    "        #\n",
    "        '''\n",
    "        qc_check = 'pass'    \n",
    "        for cvar in variables:\n",
    "            to_check = df.loc[to_find,[cvar]].values[0]\n",
    "            if np.isnan(to_check):\n",
    "                qc_check = 'fail'\n",
    "                break\n",
    "            if cvar == 'volume':\n",
    "                if (to_check < 50) or (to_check > 80):\n",
    "                    qc_check = 're-check'\n",
    "            if cvar == 'ara_scale':\n",
    "                if (to_check < 0) or (to_check > 10):\n",
    "                    qc_check = 're-check'\n",
    "            if cvar == 'nra_scale':\n",
    "                if (to_check < 0) or (to_check > 5):\n",
    "                    qc_check = 're-check'\n",
    "        '''\n",
    "        qc_check = quality_check(to_find)\n",
    "        case.fields['qc_check'] = qc_check\n",
    "        print(case.fields)\n"
   ]
  },
  {
   "cell_type": "code",
   "execution_count": null,
   "id": "f614234b",
   "metadata": {},
   "outputs": [],
   "source": [
    "session = x.connect('https://xnat.thembc.com.au', user=uname, password=pword)"
   ]
  },
  {
   "cell_type": "code",
   "execution_count": null,
   "id": "2a851503",
   "metadata": {},
   "outputs": [],
   "source": [
    "sandbox_project = session.projects['XNAT_DTEST']"
   ]
  },
  {
   "cell_type": "code",
   "execution_count": null,
   "id": "43e2b968",
   "metadata": {},
   "outputs": [],
   "source": [
    "sandbox_project.subjects.values()"
   ]
  },
  {
   "cell_type": "code",
   "execution_count": null,
   "id": "341454bd",
   "metadata": {
    "scrolled": true
   },
   "outputs": [],
   "source": [
    "for case in sandbox_project.subjects.values():\n",
    "    print(case)\n",
    "    to_find = case.label\n",
    "    case.fields['volume'] = df.loc[to_find,['volume']]\n",
    "    case.fields['ara_scale'] = df.loc[to_find,['ara_scale']]\n",
    "    case.fields['nra_scale'] = df.loc[to_find,['nra_scale']]\n",
    "    case.fields['qc_check'] = df.loc[to_find,['qc_check']]\n",
    "    print(case.fields)    "
   ]
  },
  {
   "cell_type": "code",
   "execution_count": null,
   "id": "7e85fc90",
   "metadata": {},
   "outputs": [],
   "source": [
    "for case in sandbox_project.subjects.values():\n",
    "    print(case.label)"
   ]
  },
  {
   "cell_type": "code",
   "execution_count": null,
   "id": "fe4145d2",
   "metadata": {},
   "outputs": [],
   "source": [
    "case = sandbox_project.subjects['XTEST_002']\n",
    "type(case.subject)"
   ]
  },
  {
   "cell_type": "code",
   "execution_count": null,
   "id": "d87add18",
   "metadata": {},
   "outputs": [],
   "source": [
    "session.disconnect()"
   ]
  },
  {
   "cell_type": "markdown",
   "id": "938d5768",
   "metadata": {},
   "source": [
    "## Testing"
   ]
  },
  {
   "cell_type": "code",
   "execution_count": null,
   "id": "498b9403",
   "metadata": {},
   "outputs": [],
   "source": [
    "dsf"
   ]
  },
  {
   "cell_type": "code",
   "execution_count": null,
   "id": "0f354a5d",
   "metadata": {
    "scrolled": true
   },
   "outputs": [],
   "source": [
    "variables =  list(df.columns)"
   ]
  },
  {
   "cell_type": "code",
   "execution_count": null,
   "id": "f9814157",
   "metadata": {},
   "outputs": [],
   "source": [
    "variables"
   ]
  },
  {
   "cell_type": "code",
   "execution_count": null,
   "id": "ea8f2a77",
   "metadata": {},
   "outputs": [],
   "source": [
    "for var in variables:\n",
    "    case.fields[var] = df.loc[to_find,[var]]"
   ]
  },
  {
   "cell_type": "code",
   "execution_count": null,
   "id": "f64e470d",
   "metadata": {},
   "outputs": [],
   "source": [
    "def get_user_project(all_projects):\n",
    "    proj_list = []\n",
    "    for proj in session.projects:\n",
    "        proj_list.append(proj)\n",
    "        print(proj)\n",
    "    \n",
    "    user_input = ''\n",
    "    while user_input not in proj_list:\n",
    "        user_input = input('Select the correct project').upper()\n",
    "        \n",
    "    print(f'Selected project : {user_input}')\n",
    "    return user_input"
   ]
  },
  {
   "cell_type": "code",
   "execution_count": null,
   "id": "45be7021",
   "metadata": {
    "scrolled": false
   },
   "outputs": [],
   "source": [
    "with x.connect('https://xnat.thembc.com.au', user=uname, password=pword) as session:\n",
    "    all_projects = session.projects\n",
    "    user_project = get_user_project(all_projects)\n",
    "    xnat_project = session.projects[user_project]\n",
    "    for case in xnat_project.subjects.values():\n",
    "        print(case)\n",
    "        to_find = case.labeldf.loc[to_find,[cvar]]\n",
    "        for cvar in variables:\n",
    "            case.fields[cvar] = df.loc[to_find,[cvar]]\n",
    "        print(case.fields)"
   ]
  },
  {
   "cell_type": "code",
   "execution_count": null,
   "id": "9b665c95",
   "metadata": {},
   "outputs": [],
   "source": [
    "def quality_check(to_find):\n",
    "    qc_check = 'pass'\n",
    "    for cvar in variables:\n",
    "        to_check = df.loc[to_find,[cvar]].values[0]\n",
    "        print(cvar , to_check)\n",
    "        if np.isnan(to_check):\n",
    "            qc_check = 'fail'\n",
    "            return qc_check        \n",
    "        if cvar == 'volume':\n",
    "            if (to_check < 50) or (to_check > 80):\n",
    "                qc_check = 'recheck'\n",
    "        if cvar == 'ara_scale':\n",
    "            if (to_check < 0) or (to_check > 10):\n",
    "                qc_check = 'recheck'\n",
    "        if cvar == 'nra_scale':\n",
    "            if (to_check < 0) or (to_check > 5):\n",
    "                qc_check = 'recheck'\n",
    "    return qc_check\n"
   ]
  },
  {
   "cell_type": "code",
   "execution_count": null,
   "id": "d379f3b6",
   "metadata": {},
   "outputs": [],
   "source": [
    "   \n",
    "qc_check = quality_check('XTEST_008')\n",
    "print(qc_check)"
   ]
  },
  {
   "cell_type": "code",
   "execution_count": null,
   "id": "1ded62f6",
   "metadata": {},
   "outputs": [],
   "source": [
    "session.disconnect()"
   ]
  },
  {
   "cell_type": "markdown",
   "id": "964d48a4",
   "metadata": {},
   "source": [
    "# Visit Data"
   ]
  },
  {
   "cell_type": "code",
   "execution_count": 77,
   "id": "0349356d",
   "metadata": {},
   "outputs": [
    {
     "name": "stderr",
     "output_type": "stream",
     "text": [
      "[WARNING] Found an unsupported version (1.8.2.2), trying 1.7 compatible model builder\n"
     ]
    },
    {
     "name": "stdout",
     "output_type": "stream",
     "text": [
      "XTEST_009\n",
      "<class 'xnat_gen_6d768cd8330260d3992ad6389b8992d7.MrSessionData'>\n",
      "<class 'xnat_gen_6d768cd8330260d3992ad6389b8992d7.MrSessionData'>\n",
      "************\n",
      "XTEST_005\n",
      "<class 'xnat_gen_6d768cd8330260d3992ad6389b8992d7.MrSessionData'>\n",
      "<class 'xnat_gen_6d768cd8330260d3992ad6389b8992d7.MrSessionData'>\n",
      "************\n",
      "XTEST_003\n",
      "<class 'xnat_gen_6d768cd8330260d3992ad6389b8992d7.MrSessionData'>\n",
      "<class 'xnat_gen_6d768cd8330260d3992ad6389b8992d7.MrSessionData'>\n",
      "************\n",
      "XTEST_002\n",
      "<class 'xnat_gen_6d768cd8330260d3992ad6389b8992d7.MrSessionData'>\n",
      "<class 'xnat_gen_6d768cd8330260d3992ad6389b8992d7.MrSessionData'>\n",
      "************\n",
      "XTEST_004\n",
      "<class 'xnat_gen_6d768cd8330260d3992ad6389b8992d7.MrSessionData'>\n",
      "<class 'xnat_gen_6d768cd8330260d3992ad6389b8992d7.MrSessionData'>\n",
      "************\n",
      "XTEST_010\n",
      "<class 'xnat_gen_6d768cd8330260d3992ad6389b8992d7.MrSessionData'>\n",
      "<class 'xnat_gen_6d768cd8330260d3992ad6389b8992d7.MrSessionData'>\n",
      "************\n",
      "XTEST_001\n",
      "<class 'xnat_gen_6d768cd8330260d3992ad6389b8992d7.MrSessionData'>\n",
      "<class 'xnat_gen_6d768cd8330260d3992ad6389b8992d7.MrSessionData'>\n",
      "************\n",
      "XTEST_006\n",
      "<class 'xnat_gen_6d768cd8330260d3992ad6389b8992d7.MrSessionData'>\n",
      "<class 'xnat_gen_6d768cd8330260d3992ad6389b8992d7.MrSessionData'>\n",
      "************\n",
      "XTEST_007\n",
      "<class 'xnat_gen_6d768cd8330260d3992ad6389b8992d7.MrSessionData'>\n",
      "<class 'xnat_gen_6d768cd8330260d3992ad6389b8992d7.MrSessionData'>\n",
      "************\n",
      "XTEST_008\n",
      "<class 'xnat_gen_6d768cd8330260d3992ad6389b8992d7.MrSessionData'>\n",
      "<class 'xnat_gen_6d768cd8330260d3992ad6389b8992d7.MrSessionData'>\n",
      "************\n"
     ]
    }
   ],
   "source": [
    "with x.connect('http://45.113.232.108', user=uname, password=pword) as session:\n",
    "    \n",
    "    # List out projects and let user select\n",
    "    sel_project = session.projects['TP_MXBAT']\n",
    "    for case in sel_project.subjects.values():\n",
    "        print(case.label)\n",
    "        exp_ = case.experiments.values()\n",
    "        for each in exp_:\n",
    "            print(type(each))\n",
    "#         for case_exp in exp_:\n",
    "#            print(case_exp)\n",
    "#             for each_session in case_exp:\n",
    "#                 print(each_session)\n",
    "        print(\"************\")\n",
    "        \n"
   ]
  },
  {
   "cell_type": "code",
   "execution_count": 50,
   "id": "3a87db22",
   "metadata": {
    "scrolled": true
   },
   "outputs": [
    {
     "ename": "AttributeError",
     "evalue": "'MrSessionData' object has no attribute 'pVisitData'",
     "output_type": "error",
     "traceback": [
      "\u001b[0;31m---------------------------------------------------------------------------\u001b[0m",
      "\u001b[0;31mAttributeError\u001b[0m                            Traceback (most recent call last)",
      "\u001b[0;32m<ipython-input-50-2f11354d0c43>\u001b[0m in \u001b[0;36m<module>\u001b[0;34m\u001b[0m\n\u001b[0;32m----> 1\u001b[0;31m \u001b[0mprint\u001b[0m\u001b[0;34m(\u001b[0m\u001b[0mexperiment\u001b[0m\u001b[0;34m.\u001b[0m\u001b[0mpVisitData\u001b[0m\u001b[0;34m)\u001b[0m\u001b[0;34m\u001b[0m\u001b[0;34m\u001b[0m\u001b[0m\n\u001b[0m",
      "\u001b[0;31mAttributeError\u001b[0m: 'MrSessionData' object has no attribute 'pVisitData'"
     ]
    }
   ],
   "source": [
    "print(experiment.pVisitData)"
   ]
  },
  {
   "cell_type": "code",
   "execution_count": 49,
   "id": "c4b7e6bb",
   "metadata": {},
   "outputs": [
    {
     "name": "stdout",
     "output_type": "stream",
     "text": [
      "Help on XNATListing in module xnat.core object:\n",
      "\n",
      "class XNATListing(XNATBaseListing)\n",
      " |  XNATListing(uri, filter=None, **kwargs)\n",
      " |  \n",
      " |  All the operations on a read-only sequence.\n",
      " |  \n",
      " |  Concrete subclasses must override __new__ or __init__,\n",
      " |  __getitem__, and __len__.\n",
      " |  \n",
      " |  Method resolution order:\n",
      " |      XNATListing\n",
      " |      XNATBaseListing\n",
      " |      collections.abc.Mapping\n",
      " |      collections.abc.Sequence\n",
      " |      collections.abc.Reversible\n",
      " |      collections.abc.Collection\n",
      " |      collections.abc.Sized\n",
      " |      collections.abc.Iterable\n",
      " |      collections.abc.Container\n",
      " |      builtins.object\n",
      " |  \n",
      " |  Methods defined here:\n",
      " |  \n",
      " |  __init__(self, uri, filter=None, **kwargs)\n",
      " |      Initialize self.  See help(type(self)) for accurate signature.\n",
      " |  \n",
      " |  filter(self, filters=None, **kwargs)\n",
      " |      Create a new filtered listing based on this listing. There are two way\n",
      " |      of defining the new filters. Either by passing a dict as the first\n",
      " |      argument, or by adding filters as keyword arguments.\n",
      " |      \n",
      " |      For example::\n",
      " |        >>> listing.filter({'ID': 'A*'})\n",
      " |        >>> listing.filter(ID='A*')\n",
      " |      \n",
      " |      are equivalent.\n",
      " |      \n",
      " |      :param dict filters: a dictionary containing the filters\n",
      " |      :param str kwargs: keyword arguments containing the filters\n",
      " |      :return: new filtered XNATListing\n",
      " |      :rtype: XNATListing\n",
      " |  \n",
      " |  tabulate(self, columns=None, filter=None)\n",
      " |      Create a table (tuple of namedtuples) from this listing. It is possible\n",
      " |      to choose the columns and add a filter to the tabulation.\n",
      " |      \n",
      " |      :param tuple columns: names of the variables to use for columns\n",
      " |      :param dict filter: update filters to use (form of {'variable': 'filter*'}),\n",
      " |                           setting this option will try to merge the filters and\n",
      " |                           throw an error if that is not possible.\n",
      " |      :return: tabulated data\n",
      " |      :rtype: tuple\n",
      " |      :raises ValueError: if the new filters conflict with the object filters\n",
      " |  \n",
      " |  ----------------------------------------------------------------------\n",
      " |  Static methods defined here:\n",
      " |  \n",
      " |  merge_filters(old_filters, extra_filters)\n",
      " |  \n",
      " |  ----------------------------------------------------------------------\n",
      " |  Readonly properties defined here:\n",
      " |  \n",
      " |  data_maps\n",
      " |      The generator function (should be cached) of all the data access\n",
      " |      properties. They are all generated from the same data, so their\n",
      " |      caching is shared.\n",
      " |  \n",
      " |  used_filters\n",
      " |  \n",
      " |  ----------------------------------------------------------------------\n",
      " |  Data and other attributes defined here:\n",
      " |  \n",
      " |  __abstractmethods__ = frozenset()\n",
      " |  \n",
      " |  ----------------------------------------------------------------------\n",
      " |  Methods inherited from XNATBaseListing:\n",
      " |  \n",
      " |  __getitem__(self, item)\n",
      " |  \n",
      " |  __iter__(self)\n",
      " |  \n",
      " |  __len__(self)\n",
      " |  \n",
      " |  __repr__(self)\n",
      " |      Return repr(self).\n",
      " |  \n",
      " |  __str__(self)\n",
      " |      Return str(self).\n",
      " |  \n",
      " |  clearcache(self)\n",
      " |  \n",
      " |  sanitize_name(self, name)\n",
      " |  \n",
      " |  ----------------------------------------------------------------------\n",
      " |  Readonly properties inherited from XNATBaseListing:\n",
      " |  \n",
      " |  data\n",
      " |      The data mapping using the primary key\n",
      " |  \n",
      " |  key_map\n",
      " |      The data mapping using the secondary key\n",
      " |  \n",
      " |  listing\n",
      " |      The listing view of the data\n",
      " |  \n",
      " |  non_unique_keys\n",
      " |      Set of non_unique keys\n",
      " |  \n",
      " |  uri\n",
      " |  \n",
      " |  xnat_session\n",
      " |  \n",
      " |  ----------------------------------------------------------------------\n",
      " |  Data descriptors inherited from XNATBaseListing:\n",
      " |  \n",
      " |  __dict__\n",
      " |      dictionary for instance variables (if defined)\n",
      " |  \n",
      " |  __weakref__\n",
      " |      list of weak references to the object (if defined)\n",
      " |  \n",
      " |  ----------------------------------------------------------------------\n",
      " |  Methods inherited from collections.abc.Mapping:\n",
      " |  \n",
      " |  __contains__(self, key)\n",
      " |  \n",
      " |  __eq__(self, other)\n",
      " |      Return self==value.\n",
      " |  \n",
      " |  get(self, key, default=None)\n",
      " |      D.get(k[,d]) -> D[k] if k in D, else d.  d defaults to None.\n",
      " |  \n",
      " |  items(self)\n",
      " |      D.items() -> a set-like object providing a view on D's items\n",
      " |  \n",
      " |  keys(self)\n",
      " |      D.keys() -> a set-like object providing a view on D's keys\n",
      " |  \n",
      " |  values(self)\n",
      " |      D.values() -> an object providing a view on D's values\n",
      " |  \n",
      " |  ----------------------------------------------------------------------\n",
      " |  Data and other attributes inherited from collections.abc.Mapping:\n",
      " |  \n",
      " |  __hash__ = None\n",
      " |  \n",
      " |  __reversed__ = None\n",
      " |  \n",
      " |  ----------------------------------------------------------------------\n",
      " |  Methods inherited from collections.abc.Sequence:\n",
      " |  \n",
      " |  count(self, value)\n",
      " |      S.count(value) -> integer -- return number of occurrences of value\n",
      " |  \n",
      " |  index(self, value, start=0, stop=None)\n",
      " |      S.index(value, [start, [stop]]) -> integer -- return first index of value.\n",
      " |      Raises ValueError if the value is not present.\n",
      " |      \n",
      " |      Supporting start and stop arguments is optional, but\n",
      " |      recommended.\n",
      " |  \n",
      " |  ----------------------------------------------------------------------\n",
      " |  Class methods inherited from collections.abc.Reversible:\n",
      " |  \n",
      " |  __subclasshook__(C) from abc.ABCMeta\n",
      " |      Abstract classes can override this to customize issubclass().\n",
      " |      \n",
      " |      This is invoked early on by abc.ABCMeta.__subclasscheck__().\n",
      " |      It should return True, False or NotImplemented.  If it returns\n",
      " |      NotImplemented, the normal algorithm is used.  Otherwise, it\n",
      " |      overrides the normal algorithm (and the outcome is cached).\n",
      "\n"
     ]
    }
   ],
   "source": [
    "help(session.subjects)"
   ]
  }
 ],
 "metadata": {
  "kernelspec": {
   "display_name": "Python 3",
   "language": "python",
   "name": "python3"
  },
  "language_info": {
   "codemirror_mode": {
    "name": "ipython",
    "version": 3
   },
   "file_extension": ".py",
   "mimetype": "text/x-python",
   "name": "python",
   "nbconvert_exporter": "python",
   "pygments_lexer": "ipython3",
   "version": "3.8.10"
  }
 },
 "nbformat": 4,
 "nbformat_minor": 5
}
