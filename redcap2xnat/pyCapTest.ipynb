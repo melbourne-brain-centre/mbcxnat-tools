{
 "cells": [
  {
   "cell_type": "code",
   "execution_count": 1,
   "id": "5cde9d6a",
   "metadata": {},
   "outputs": [],
   "source": [
    "import redcap"
   ]
  },
  {
   "cell_type": "code",
   "execution_count": 2,
   "id": "c0ebd6e6",
   "metadata": {},
   "outputs": [],
   "source": [
    "api_key = \"FB93AC90D673406ACFCD35F39075E7F1\"\n",
    "api_url = \"https://test-mbctrials.unimelb.edu.au/api/\""
   ]
  },
  {
   "cell_type": "code",
   "execution_count": 3,
   "id": "611b323d",
   "metadata": {},
   "outputs": [],
   "source": [
    "project = redcap.Project(api_url, api_key)"
   ]
  },
  {
   "cell_type": "code",
   "execution_count": 4,
   "id": "1ec33c5f",
   "metadata": {},
   "outputs": [],
   "source": [
    "all_data = project.export_records()"
   ]
  },
  {
   "cell_type": "code",
   "execution_count": 5,
   "id": "ac1d98a4",
   "metadata": {},
   "outputs": [
    {
     "data": {
      "text/plain": [
       "list"
      ]
     },
     "execution_count": 5,
     "metadata": {},
     "output_type": "execute_result"
    }
   ],
   "source": [
    "type(all_data)"
   ]
  },
  {
   "cell_type": "code",
   "execution_count": 6,
   "id": "858e5628",
   "metadata": {},
   "outputs": [],
   "source": [
    "csv_data = project.export_records(format='csv')"
   ]
  },
  {
   "cell_type": "code",
   "execution_count": 7,
   "id": "474ee627",
   "metadata": {},
   "outputs": [
    {
     "data": {
      "text/plain": [
       "'subject,volume,ara_scale,nra_scale\\nXTEST_001,67.84,8,1\\nXTEST_002,77.77,7,3\\nXTEST_003,99.19,15,4\\nXTEST_004,73.37,8,3\\nXTEST_005,59.78,6,2\\nXTEST_006,77.69,7,4\\nXTEST_007,66.06,8,3\\nXTEST_008,100.11,0,8\\nXTEST_009,63.95,7,2\\nXTEST_010,59.39,6,1\\nXTEST_011,68.15,7,2\\nXTEST_012,55.24,8,3\\nXTEST_013,59.78,9,4\\nXTEST_014,77.69,7,4\\nXTEST_015,,15,7\\nXTEST_016,68.15,5,3\\nXTEST_017,71.12,9,2\\nXTEST_018,59.39,7,3\\nXTEST_019,68.15,8,4\\nXTEST_020,71.12,6,3\\n'"
      ]
     },
     "execution_count": 7,
     "metadata": {},
     "output_type": "execute_result"
    }
   ],
   "source": [
    "csv_data"
   ]
  },
  {
   "cell_type": "code",
   "execution_count": null,
   "id": "fe5345c0",
   "metadata": {},
   "outputs": [],
   "source": [
    "data_frame = project.export_records(format='df')"
   ]
  },
  {
   "cell_type": "code",
   "execution_count": null,
   "id": "d56766b3",
   "metadata": {
    "scrolled": true
   },
   "outputs": [],
   "source": [
    "data_frame.to_csv('form_redcap.csv',index=True)"
   ]
  },
  {
   "cell_type": "code",
   "execution_count": null,
   "id": "7f07010b",
   "metadata": {},
   "outputs": [],
   "source": []
  },
  {
   "cell_type": "code",
   "execution_count": null,
   "id": "44705676",
   "metadata": {},
   "outputs": [],
   "source": []
  },
  {
   "cell_type": "code",
   "execution_count": null,
   "id": "cf3aff1c",
   "metadata": {},
   "outputs": [],
   "source": []
  },
  {
   "cell_type": "code",
   "execution_count": null,
   "id": "2943b812",
   "metadata": {},
   "outputs": [],
   "source": []
  }
 ],
 "metadata": {
  "kernelspec": {
   "display_name": "Python 3 (ipykernel)",
   "language": "python",
   "name": "python3"
  },
  "language_info": {
   "codemirror_mode": {
    "name": "ipython",
    "version": 3
   },
   "file_extension": ".py",
   "mimetype": "text/x-python",
   "name": "python",
   "nbconvert_exporter": "python",
   "pygments_lexer": "ipython3",
   "version": "3.8.11"
  }
 },
 "nbformat": 4,
 "nbformat_minor": 5
}
