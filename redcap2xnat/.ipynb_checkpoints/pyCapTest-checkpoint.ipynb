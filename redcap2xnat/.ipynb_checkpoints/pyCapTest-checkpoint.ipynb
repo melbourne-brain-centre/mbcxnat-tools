{
 "cells": [
  {
   "cell_type": "code",
   "execution_count": null,
   "id": "5cde9d6a",
   "metadata": {},
   "outputs": [],
   "source": [
    "import redcap"
   ]
  },
  {
   "cell_type": "code",
   "execution_count": null,
   "id": "c0ebd6e6",
   "metadata": {},
   "outputs": [],
   "source": [
    "api_key = \"FB93AC90D673406ACFCD35F39075E7F1\"\n",
    "api_url = \"https://test-mbctrials.unimelb.edu.au/api/\""
   ]
  },
  {
   "cell_type": "code",
   "execution_count": null,
   "id": "611b323d",
   "metadata": {},
   "outputs": [],
   "source": [
    "project = redcap.Project(api_url, api_key)"
   ]
  },
  {
   "cell_type": "code",
   "execution_count": null,
   "id": "1ec33c5f",
   "metadata": {},
   "outputs": [],
   "source": [
    "all_data = project.export_records()"
   ]
  },
  {
   "cell_type": "code",
   "execution_count": null,
   "id": "ac1d98a4",
   "metadata": {},
   "outputs": [],
   "source": [
    "type(all_data)"
   ]
  },
  {
   "cell_type": "code",
   "execution_count": null,
   "id": "858e5628",
   "metadata": {},
   "outputs": [],
   "source": [
    "csv_data = project.export_records(format='csv')"
   ]
  },
  {
   "cell_type": "code",
   "execution_count": null,
   "id": "474ee627",
   "metadata": {},
   "outputs": [],
   "source": [
    "csv_data"
   ]
  },
  {
   "cell_type": "code",
   "execution_count": null,
   "id": "fe5345c0",
   "metadata": {},
   "outputs": [],
   "source": [
    "data_frame = project.export_records(format='df')"
   ]
  },
  {
   "cell_type": "code",
   "execution_count": null,
   "id": "d56766b3",
   "metadata": {
    "scrolled": true
   },
   "outputs": [],
   "source": [
    "data_frame.to_csv('form_redcap.csv',index=True)"
   ]
  },
  {
   "cell_type": "code",
   "execution_count": null,
   "id": "7f07010b",
   "metadata": {},
   "outputs": [],
   "source": []
  },
  {
   "cell_type": "code",
   "execution_count": null,
   "id": "44705676",
   "metadata": {},
   "outputs": [],
   "source": []
  },
  {
   "cell_type": "code",
   "execution_count": null,
   "id": "cf3aff1c",
   "metadata": {},
   "outputs": [],
   "source": []
  },
  {
   "cell_type": "code",
   "execution_count": null,
   "id": "2943b812",
   "metadata": {},
   "outputs": [],
   "source": []
  }
 ],
 "metadata": {
  "kernelspec": {
   "display_name": "Python 3 (ipykernel)",
   "language": "python",
   "name": "python3"
  },
  "language_info": {
   "codemirror_mode": {
    "name": "ipython",
    "version": 3
   },
   "file_extension": ".py",
   "mimetype": "text/x-python",
   "name": "python",
   "nbconvert_exporter": "python",
   "pygments_lexer": "ipython3",
   "version": "3.8.11"
  }
 },
 "nbformat": 4,
 "nbformat_minor": 5
}
