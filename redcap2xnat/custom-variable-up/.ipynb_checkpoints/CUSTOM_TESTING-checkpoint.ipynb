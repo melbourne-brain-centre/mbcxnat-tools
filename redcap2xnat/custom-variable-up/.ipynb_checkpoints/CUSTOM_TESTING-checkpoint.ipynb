{
 "cells": [
  {
   "cell_type": "markdown",
   "id": "039e0287",
   "metadata": {},
   "source": [
    "# Importing data to custom variables form a csv file\n",
    "\n",
    "Inject values to custom variables in XNAT from a csv file using xnatpy "
   ]
  },
  {
   "cell_type": "code",
   "execution_count": 1,
   "id": "80462e96",
   "metadata": {},
   "outputs": [],
   "source": [
    "import xnat as x\n",
    "# import random\n",
    "import numpy as np\n",
    "import pandas as pd\n",
    "import redcap as red"
   ]
  },
  {
   "cell_type": "code",
   "execution_count": 2,
   "id": "3664c003",
   "metadata": {},
   "outputs": [
    {
     "name": "stdout",
     "output_type": "stream",
     "text": [
      "pwdMBCrmh2020#\n"
     ]
    }
   ],
   "source": [
    "# XNAT\n",
    "uname = 'brokaha'\n",
    "pword = input('pwd')\n",
    "\n",
    "# REDCap\n",
    "api_key = \"FB93AC90D673406ACFCD35F39075E7F1\"\n",
    "api_url = \"https://test-mbctrials.unimelb.edu.au/api/\"\n",
    "\n",
    "# Table\n",
    "table = \"../table.txt\""
   ]
  },
  {
   "cell_type": "code",
   "execution_count": 3,
   "id": "36c3ef92",
   "metadata": {},
   "outputs": [],
   "source": [
    "# Exporting data form REDCap\n",
    "project = red.Project(api_url, api_key)\n",
    "df = project.export_records(format='df')"
   ]
  },
  {
   "cell_type": "code",
   "execution_count": 5,
   "id": "0590d6b9",
   "metadata": {},
   "outputs": [],
   "source": [
    "# Let user select project\n",
    "def get_user_project(all_projects):\n",
    "    proj_list = []\n",
    "    for proj in session.projects:\n",
    "        proj_list.append(proj)\n",
    "        print(proj)\n",
    "    \n",
    "    user_input = ''\n",
    "    while user_input not in proj_list:\n",
    "        user_input = input('Select the correct project').upper()\n",
    "        \n",
    "    print(f'Selected project : {user_input}')\n",
    "    return user_input"
   ]
  },
  {
   "cell_type": "code",
   "execution_count": 9,
   "id": "84b45e75",
   "metadata": {},
   "outputs": [],
   "source": [
    "# create a table\n",
    "def create_table(table):\n",
    "    # Create mapping dictionary from a text file\n",
    "    mapdic = {}\n",
    "    with open(table, 'r') as transt_file:\n",
    "        for line in transt_file:\n",
    "            tup = line.strip('\\n').strip(',').split(',')\n",
    "            for i in range(len(tup)-1):\n",
    "                mapdic[tup[i+1]] = tup[0]\n",
    "\n",
    "    return mapdic"
   ]
  },
  {
   "cell_type": "code",
   "execution_count": 10,
   "id": "977775b9",
   "metadata": {},
   "outputs": [
    {
     "ename": "KeyError",
     "evalue": "'STOPMSU001_80_01'",
     "output_type": "error",
     "traceback": [
      "\u001b[0;31m---------------------------------------------------------------------------\u001b[0m",
      "\u001b[0;31mKeyError\u001b[0m                                  Traceback (most recent call last)",
      "\u001b[0;32m/tmp/ipykernel_13137/2681406417.py\u001b[0m in \u001b[0;36m<module>\u001b[0;34m\u001b[0m\n\u001b[1;32m      6\u001b[0m     \u001b[0;32mreturn\u001b[0m \u001b[0mdic\u001b[0m\u001b[0;34m[\u001b[0m\u001b[0mtemp_var\u001b[0m\u001b[0;34m]\u001b[0m\u001b[0;34m\u001b[0m\u001b[0;34m\u001b[0m\u001b[0m\n\u001b[1;32m      7\u001b[0m \u001b[0;34m\u001b[0m\u001b[0m\n\u001b[0;32m----> 8\u001b[0;31m \u001b[0mdf\u001b[0m\u001b[0;34m[\u001b[0m\u001b[0;34m\"index\"\u001b[0m\u001b[0;34m]\u001b[0m \u001b[0;34m=\u001b[0m \u001b[0mdf\u001b[0m\u001b[0;34m[\u001b[0m\u001b[0;34m\"index\"\u001b[0m\u001b[0;34m]\u001b[0m\u001b[0;34m.\u001b[0m\u001b[0mapply\u001b[0m\u001b[0;34m(\u001b[0m\u001b[0mtemp_func\u001b[0m\u001b[0;34m)\u001b[0m\u001b[0;34m\u001b[0m\u001b[0;34m\u001b[0m\u001b[0m\n\u001b[0m\u001b[1;32m      9\u001b[0m \u001b[0mdf\u001b[0m\u001b[0;34m.\u001b[0m\u001b[0mset_index\u001b[0m\u001b[0;34m(\u001b[0m\u001b[0;34m\"index\"\u001b[0m\u001b[0;34m,\u001b[0m\u001b[0minplace\u001b[0m\u001b[0;34m=\u001b[0m\u001b[0;32mTrue\u001b[0m\u001b[0;34m)\u001b[0m\u001b[0;34m\u001b[0m\u001b[0;34m\u001b[0m\u001b[0m\n\u001b[1;32m     10\u001b[0m \u001b[0;34m\u001b[0m\u001b[0m\n",
      "\u001b[0;32m~/.local/lib/python3.8/site-packages/pandas/core/series.py\u001b[0m in \u001b[0;36mapply\u001b[0;34m(self, func, convert_dtype, args, **kwds)\u001b[0m\n\u001b[1;32m   4133\u001b[0m             \u001b[0;32melse\u001b[0m\u001b[0;34m:\u001b[0m\u001b[0;34m\u001b[0m\u001b[0;34m\u001b[0m\u001b[0m\n\u001b[1;32m   4134\u001b[0m                 \u001b[0mvalues\u001b[0m \u001b[0;34m=\u001b[0m \u001b[0mself\u001b[0m\u001b[0;34m.\u001b[0m\u001b[0mastype\u001b[0m\u001b[0;34m(\u001b[0m\u001b[0mobject\u001b[0m\u001b[0;34m)\u001b[0m\u001b[0;34m.\u001b[0m\u001b[0m_values\u001b[0m\u001b[0;34m\u001b[0m\u001b[0;34m\u001b[0m\u001b[0m\n\u001b[0;32m-> 4135\u001b[0;31m                 \u001b[0mmapped\u001b[0m \u001b[0;34m=\u001b[0m \u001b[0mlib\u001b[0m\u001b[0;34m.\u001b[0m\u001b[0mmap_infer\u001b[0m\u001b[0;34m(\u001b[0m\u001b[0mvalues\u001b[0m\u001b[0;34m,\u001b[0m \u001b[0mf\u001b[0m\u001b[0;34m,\u001b[0m \u001b[0mconvert\u001b[0m\u001b[0;34m=\u001b[0m\u001b[0mconvert_dtype\u001b[0m\u001b[0;34m)\u001b[0m\u001b[0;34m\u001b[0m\u001b[0;34m\u001b[0m\u001b[0m\n\u001b[0m\u001b[1;32m   4136\u001b[0m \u001b[0;34m\u001b[0m\u001b[0m\n\u001b[1;32m   4137\u001b[0m         \u001b[0;32mif\u001b[0m \u001b[0mlen\u001b[0m\u001b[0;34m(\u001b[0m\u001b[0mmapped\u001b[0m\u001b[0;34m)\u001b[0m \u001b[0;32mand\u001b[0m \u001b[0misinstance\u001b[0m\u001b[0;34m(\u001b[0m\u001b[0mmapped\u001b[0m\u001b[0;34m[\u001b[0m\u001b[0;36m0\u001b[0m\u001b[0;34m]\u001b[0m\u001b[0;34m,\u001b[0m \u001b[0mSeries\u001b[0m\u001b[0;34m)\u001b[0m\u001b[0;34m:\u001b[0m\u001b[0;34m\u001b[0m\u001b[0;34m\u001b[0m\u001b[0m\n",
      "\u001b[0;32m~/anaconda3/lib/python3.8/site-packages/pandas/_libs/lib.pyx\u001b[0m in \u001b[0;36mpandas._libs.lib.map_infer\u001b[0;34m()\u001b[0m\n",
      "\u001b[0;32m/tmp/ipykernel_13137/2681406417.py\u001b[0m in \u001b[0;36mtemp_func\u001b[0;34m(temp_var)\u001b[0m\n\u001b[1;32m      4\u001b[0m \u001b[0;34m\u001b[0m\u001b[0m\n\u001b[1;32m      5\u001b[0m \u001b[0;32mdef\u001b[0m \u001b[0mtemp_func\u001b[0m\u001b[0;34m(\u001b[0m\u001b[0mtemp_var\u001b[0m\u001b[0;34m)\u001b[0m\u001b[0;34m:\u001b[0m\u001b[0;34m\u001b[0m\u001b[0;34m\u001b[0m\u001b[0m\n\u001b[0;32m----> 6\u001b[0;31m     \u001b[0;32mreturn\u001b[0m \u001b[0mdic\u001b[0m\u001b[0;34m[\u001b[0m\u001b[0mtemp_var\u001b[0m\u001b[0;34m]\u001b[0m\u001b[0;34m\u001b[0m\u001b[0;34m\u001b[0m\u001b[0m\n\u001b[0m\u001b[1;32m      7\u001b[0m \u001b[0;34m\u001b[0m\u001b[0m\n\u001b[1;32m      8\u001b[0m \u001b[0mdf\u001b[0m\u001b[0;34m[\u001b[0m\u001b[0;34m\"index\"\u001b[0m\u001b[0;34m]\u001b[0m \u001b[0;34m=\u001b[0m \u001b[0mdf\u001b[0m\u001b[0;34m[\u001b[0m\u001b[0;34m\"index\"\u001b[0m\u001b[0;34m]\u001b[0m\u001b[0;34m.\u001b[0m\u001b[0mapply\u001b[0m\u001b[0;34m(\u001b[0m\u001b[0mtemp_func\u001b[0m\u001b[0;34m)\u001b[0m\u001b[0;34m\u001b[0m\u001b[0;34m\u001b[0m\u001b[0m\n",
      "\u001b[0;31mKeyError\u001b[0m: 'STOPMSU001_80_01'"
     ]
    }
   ],
   "source": [
    "# settig up dataframe\n",
    "\n",
    "df[\"index\"] = df.index.astype(str)\n",
    "\n",
    "def temp_func(temp_var):\n",
    "    return dic[temp_var]\n",
    "\n",
    "df[\"index\"] = df[\"index\"].apply(temp_func)\n",
    "df.set_index(\"index\",inplace=True)\n",
    "\n",
    "variables =  list(df.columns)"
   ]
  },
  {
   "cell_type": "code",
   "execution_count": null,
   "id": "2c95ae1d",
   "metadata": {},
   "outputs": [],
   "source": [
    "# Connect to remote xnat server\n",
    "with x.connect('https://dev-xnat.thembc.com.au', user=uname, password=pword) as session:\n",
    "    \n",
    "    # List out projects and let user select\n",
    "    all_projects = session.projects\n",
    "    user_project = get_user_project(all_projects)\n",
    "    xnat_project = session.projects[user_project]\n",
    "    \n",
    "    \n",
    "    # Loop each subject in the project\n",
    "    for case in xnat_project.subjects.values():\n",
    "        print(case)\n",
    "    \n",
    "        # Loop over and assign values from csv to required custom variable\n",
    "        to_find = case.label\n",
    "        for cvar in variables:\n",
    "            case.fields[cvar] = df.loc[to_find,[cvar]]\n",
    "        print(case.fields)\n"
   ]
  },
  {
   "cell_type": "code",
   "execution_count": null,
   "id": "f614234b",
   "metadata": {},
   "outputs": [],
   "source": [
    "session = x.connect('https://xnat.thembc.com.au', user=uname, password=pword)"
   ]
  },
  {
   "cell_type": "code",
   "execution_count": null,
   "id": "2a851503",
   "metadata": {},
   "outputs": [],
   "source": [
    "sandbox_project = session.projects['XNAT_DTEST']"
   ]
  },
  {
   "cell_type": "code",
   "execution_count": null,
   "id": "43e2b968",
   "metadata": {},
   "outputs": [],
   "source": [
    "sandbox_project.subjects.values()"
   ]
  },
  {
   "cell_type": "code",
   "execution_count": null,
   "id": "341454bd",
   "metadata": {
    "scrolled": true
   },
   "outputs": [],
   "source": [
    "for case in sandbox_project.subjects.values():\n",
    "    print(case)\n",
    "    to_find = case.label\n",
    "    case.fields['volume'] = df.loc[to_find,['volume']]\n",
    "    case.fields['ara_scale'] = df.loc[to_find,['ara_scale']]\n",
    "    case.fields['nra_scale'] = df.loc[to_find,['nra_scale']]\n",
    "    case.fields['qc_check'] = df.loc[to_find,['qc_check']]\n",
    "    print(case.fields)    "
   ]
  },
  {
   "cell_type": "code",
   "execution_count": null,
   "id": "7e85fc90",
   "metadata": {},
   "outputs": [],
   "source": [
    "for case in sandbox_project.subjects.values():\n",
    "    print(case.label)"
   ]
  },
  {
   "cell_type": "code",
   "execution_count": null,
   "id": "fe4145d2",
   "metadata": {},
   "outputs": [],
   "source": [
    "case = sandbox_project.subjects['XTEST_002']\n",
    "type(case.subject)"
   ]
  },
  {
   "cell_type": "code",
   "execution_count": null,
   "id": "d87add18",
   "metadata": {},
   "outputs": [],
   "source": [
    "session.disconnect()"
   ]
  },
  {
   "cell_type": "markdown",
   "id": "938d5768",
   "metadata": {},
   "source": [
    "## Testing"
   ]
  },
  {
   "cell_type": "code",
   "execution_count": null,
   "id": "c7aed487",
   "metadata": {},
   "outputs": [],
   "source": [
    "project = red.Project(api_url, api_key)"
   ]
  },
  {
   "cell_type": "code",
   "execution_count": null,
   "id": "c1061390",
   "metadata": {},
   "outputs": [],
   "source": []
  },
  {
   "cell_type": "code",
   "execution_count": null,
   "id": "c31d2e52",
   "metadata": {},
   "outputs": [],
   "source": [
    "df.columns = [x.lower() for x in df.columns]\n",
    "# df.set_index(keys='subject', inplace=True)\n",
    "variables = list(df.columns)"
   ]
  },
  {
   "cell_type": "code",
   "execution_count": null,
   "id": "105d812c",
   "metadata": {},
   "outputs": [],
   "source": [
    "variables"
   ]
  },
  {
   "cell_type": "code",
   "execution_count": null,
   "id": "fc6173ef",
   "metadata": {},
   "outputs": [],
   "source": []
  },
  {
   "cell_type": "code",
   "execution_count": null,
   "id": "25bd7eb9",
   "metadata": {},
   "outputs": [],
   "source": [
    "def quality_check(to_find):\n",
    "    qc_check = 'pass'\n",
    "    for cvar in variables:\n",
    "        to_check = df.loc[to_find,[cvar]].values[0]\n",
    "        if np.isnan(to_check):\n",
    "            qc_check = 'fail'\n",
    "            return qc_check        \n",
    "        if cvar == 'volume':\n",
    "            if (to_check < 50) or (to_check > 80):\n",
    "                qc_check = 'recheck'\n",
    "        if cvar == 'ara_scale':\n",
    "            if (to_check < 0) or (to_check > 10):\n",
    "                qc_check = 'recheck'\n",
    "        if cvar == 'nra_scale':\n",
    "            if (to_check < 0) or (to_check > 5):\n",
    "                qc_check = 'recheck'\n",
    "    return qc_check"
   ]
  },
  {
   "cell_type": "code",
   "execution_count": null,
   "id": "498b9403",
   "metadata": {},
   "outputs": [],
   "source": [
    "dsf"
   ]
  },
  {
   "cell_type": "code",
   "execution_count": null,
   "id": "0f354a5d",
   "metadata": {
    "scrolled": true
   },
   "outputs": [],
   "source": [
    "variables =  list(df.columns)"
   ]
  },
  {
   "cell_type": "code",
   "execution_count": null,
   "id": "f9814157",
   "metadata": {},
   "outputs": [],
   "source": [
    "variables"
   ]
  },
  {
   "cell_type": "code",
   "execution_count": null,
   "id": "ea8f2a77",
   "metadata": {},
   "outputs": [],
   "source": [
    "for var in variables:\n",
    "    case.fields[var] = df.loc[to_find,[var]]"
   ]
  },
  {
   "cell_type": "code",
   "execution_count": null,
   "id": "f64e470d",
   "metadata": {},
   "outputs": [],
   "source": [
    "def get_user_project(all_projects):\n",
    "    proj_list = []\n",
    "    for proj in session.projects:\n",
    "        proj_list.append(proj)\n",
    "        print(proj)\n",
    "    \n",
    "    user_input = ''\n",
    "    while user_input not in proj_list:\n",
    "        user_input = input('Select the correct project').upper()\n",
    "        \n",
    "    print(f'Selected project : {user_input}')\n",
    "    return user_input"
   ]
  },
  {
   "cell_type": "code",
   "execution_count": null,
   "id": "45be7021",
   "metadata": {
    "scrolled": false
   },
   "outputs": [],
   "source": [
    "with x.connect('https://xnat.thembc.com.au', user=uname, password=pword) as session:\n",
    "    all_projects = session.projects\n",
    "    user_project = get_user_project(all_projects)\n",
    "    xnat_project = session.projects[user_project]\n",
    "    for case in xnat_project.subjects.values():\n",
    "        print(case)\n",
    "        to_find = case.labeldf.loc[to_find,[cvar]]\n",
    "        for cvar in variables:\n",
    "            case.fields[cvar] = df.loc[to_find,[cvar]]\n",
    "        print(case.fields)"
   ]
  },
  {
   "cell_type": "code",
   "execution_count": null,
   "id": "9b665c95",
   "metadata": {},
   "outputs": [],
   "source": [
    "def quality_check(to_find):\n",
    "    qc_check = 'pass'\n",
    "    for cvar in variables:\n",
    "        to_check = df.loc[to_find,[cvar]].values[0]\n",
    "        print(cvar , to_check)\n",
    "        if np.isnan(to_check):\n",
    "            qc_check = 'fail'\n",
    "            return qc_check        \n",
    "        if cvar == 'volume':\n",
    "            if (to_check < 50) or (to_check > 80):\n",
    "                qc_check = 'recheck'\n",
    "        if cvar == 'ara_scale':\n",
    "            if (to_check < 0) or (to_check > 10):\n",
    "                qc_check = 'recheck'\n",
    "        if cvar == 'nra_scale':\n",
    "            if (to_check < 0) or (to_check > 5):\n",
    "                qc_check = 'recheck'\n",
    "    return qc_check\n"
   ]
  },
  {
   "cell_type": "code",
   "execution_count": null,
   "id": "d379f3b6",
   "metadata": {},
   "outputs": [],
   "source": [
    "   \n",
    "qc_check = quality_check('XTEST_008')\n",
    "print(qc_check)"
   ]
  },
  {
   "cell_type": "code",
   "execution_count": null,
   "id": "1ded62f6",
   "metadata": {},
   "outputs": [],
   "source": [
    "session.disconnect()"
   ]
  },
  {
   "cell_type": "markdown",
   "id": "964d48a4",
   "metadata": {},
   "source": [
    "# Visit Data"
   ]
  },
  {
   "cell_type": "code",
   "execution_count": null,
   "id": "0349356d",
   "metadata": {},
   "outputs": [],
   "source": [
    "with x.connect('http://45.113.232.108', user=uname, password=pword) as session:\n",
    "    \n",
    "    # List out projects and let user select\n",
    "    sel_project = session.projects['TP_MXBAT']\n",
    "    for case in sel_project.subjects.values():\n",
    "        print(case.label)\n",
    "        exp_ = case.experiments.values()\n",
    "        for each in exp_:\n",
    "            print(type(each))\n",
    "#         for case_exp in exp_:\n",
    "#            print(case_exp)\n",
    "#             for each_session in case_exp:\n",
    "#                 print(each_session)\n",
    "        print(\"************\")\n",
    "        \n"
   ]
  },
  {
   "cell_type": "code",
   "execution_count": null,
   "id": "3a87db22",
   "metadata": {
    "scrolled": true
   },
   "outputs": [],
   "source": []
  },
  {
   "cell_type": "code",
   "execution_count": 6,
   "id": "c4b7e6bb",
   "metadata": {},
   "outputs": [],
   "source": [
    "def create_table(table):\n",
    "    # Create mapping dictionary from a text file\n",
    "    mapdic = {}\n",
    "    with open(table, 'r') as transt_file:\n",
    "        for line in transt_file:\n",
    "            tup = line.strip('\\n').strip(',').split(',')\n",
    "            for i in range(len(tup)-1):\n",
    "                mapdic[tup[i+1]] = tup[0]\n",
    "\n",
    "    return mapdic\n",
    "\n",
    "table = \"../table.txt\"\n",
    "dic = create_table(table)"
   ]
  },
  {
   "cell_type": "code",
   "execution_count": null,
   "id": "16863d61",
   "metadata": {},
   "outputs": [],
   "source": []
  },
  {
   "cell_type": "code",
   "execution_count": null,
   "id": "2e267b20",
   "metadata": {},
   "outputs": [],
   "source": []
  },
  {
   "cell_type": "code",
   "execution_count": 7,
   "id": "62ff182b",
   "metadata": {},
   "outputs": [],
   "source": [
    "df[\"index\"] = df.index.astype(str)\n",
    "\n",
    "def temp_func(temp_var):\n",
    "    return dic[temp_var]\n",
    "\n",
    "df[\"index\"] = df[\"index\"].apply(temp_func)\n",
    "df.set_index(\"index\",inplace=True)"
   ]
  },
  {
   "cell_type": "code",
   "execution_count": null,
   "id": "7145c7d7",
   "metadata": {},
   "outputs": [],
   "source": [
    "# df.drop('column_name', axis=1, inplace=True)"
   ]
  },
  {
   "cell_type": "code",
   "execution_count": null,
   "id": "55970ca8",
   "metadata": {},
   "outputs": [],
   "source": []
  }
 ],
 "metadata": {
  "kernelspec": {
   "display_name": "Python 3 (ipykernel)",
   "language": "python",
   "name": "python3"
  },
  "language_info": {
   "codemirror_mode": {
    "name": "ipython",
    "version": 3
   },
   "file_extension": ".py",
   "mimetype": "text/x-python",
   "name": "python",
   "nbconvert_exporter": "python",
   "pygments_lexer": "ipython3",
   "version": "3.8.11"
  }
 },
 "nbformat": 4,
 "nbformat_minor": 5
}
