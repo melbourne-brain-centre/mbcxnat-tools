{
 "cells": [
  {
   "cell_type": "markdown",
   "id": "039e0287",
   "metadata": {},
   "source": [
    "# Importing data to custom variables form a csv file\n",
    "\n",
    "Inject values to custom variables in XNAT from a csv file using xnatpy "
   ]
  },
  {
   "cell_type": "code",
   "execution_count": 1,
   "id": "80462e96",
   "metadata": {},
   "outputs": [],
   "source": [
    "import xnat as x\n",
    "# import random\n",
    "import numpy as np\n",
    "import pandas as pd\n",
    "import redcap as red"
   ]
  },
  {
   "cell_type": "code",
   "execution_count": 19,
   "id": "3664c003",
   "metadata": {},
   "outputs": [
    {
     "name": "stdout",
     "output_type": "stream",
     "text": [
      "pwdMBCrmh2020#\n"
     ]
    }
   ],
   "source": [
    "# XNAT\n",
    "uname = 'brokaha'\n",
    "pword = input('pwd')\n",
    "\n",
    "# REDCap\n",
    "api_key = \"FB93AC90D673406ACFCD35F39075E7F1\"\n",
    "api_url = \"https://test-mbctrials.unimelb.edu.au/api/\"\n",
    "\n",
    "# Table\n",
    "table = \"../table.txt\""
   ]
  },
  {
   "cell_type": "code",
   "execution_count": 20,
   "id": "49e8fa21",
   "metadata": {},
   "outputs": [],
   "source": [
    "# Exporting data form REDCap\n",
    "project = red.Project(api_url, api_key)\n",
    "df = project.export_records(format='df')"
   ]
  },
  {
   "cell_type": "code",
   "execution_count": 21,
   "id": "0590d6b9",
   "metadata": {},
   "outputs": [],
   "source": [
    "# Let user select project\n",
    "def get_user_project(all_projects):\n",
    "    proj_list = []\n",
    "    for proj in session.projects:\n",
    "        proj_list.append(proj)\n",
    "        print(proj)\n",
    "    \n",
    "    user_input = ''\n",
    "    while user_input not in proj_list:\n",
    "        user_input = input('Select the correct project').upper()\n",
    "        \n",
    "    print(f'Selected project : {user_input}')\n",
    "    return user_input"
   ]
  },
  {
   "cell_type": "code",
   "execution_count": 22,
   "id": "84b45e75",
   "metadata": {},
   "outputs": [],
   "source": [
    "# create a table\n",
    "def create_table(table):\n",
    "    # Create mapping dictionary from a text file\n",
    "    mapdic = {}\n",
    "    with open(table, 'r') as transt_file:\n",
    "        for line in transt_file:\n",
    "            tup = line.strip('\\n').strip(',').split(',')\n",
    "            for i in range(len(tup)-1):\n",
    "                mapdic[tup[i+1]] = tup[0]\n",
    "\n",
    "    return mapdic"
   ]
  },
  {
   "cell_type": "code",
   "execution_count": 23,
   "id": "8e57ca6a",
   "metadata": {},
   "outputs": [],
   "source": [
    "# settig up dataframe\n",
    "\n",
    "dic = create_table(table)\n",
    "df[\"index\"] = df.index.astype(str)\n",
    "\n",
    "def temp_func(temp_var):\n",
    "    return dic[temp_var]\n",
    "\n",
    "df[\"index\"] = df[\"index\"].apply(temp_func)\n",
    "df.set_index(\"index\",inplace=True)\n",
    "\n",
    "variables =  list(df.columns)"
   ]
  },
  {
   "cell_type": "code",
   "execution_count": 24,
   "id": "2c95ae1d",
   "metadata": {
    "scrolled": false
   },
   "outputs": [
    {
     "name": "stderr",
     "output_type": "stream",
     "text": [
      "[WARNING] Found an unsupported version (1.8.3), trying 1.7 compatible model builder\n"
     ]
    },
    {
     "name": "stdout",
     "output_type": "stream",
     "text": [
      "EX_IA\n",
      "STOP_MSU\n",
      "TP_MXBAT\n",
      "Select the correct projectSTOP_MSU\n",
      "Selected project : STOP_MSU\n",
      "<SubjectData STOPMSU003_80_03 (MBCXNAT38_S00001)>\n",
      "<XNATSimpleListing {'transfer_site_name': 'RMH', 'sae': 'SAE #1: Large ICH with intraventricular extension', 'nihss_baseline': '17.0', 'nihss_24hr': 'ND', 'nihss_1hr': 'ND', 'day_90_mrs': '6.0', 'day_90_due': 'Died in hospital', 'day_90_date': 'nan', 'comment': 'nan', 'baseline_ich_volume': '32.13'}>\n",
      "<SubjectData STOPMSU012_80_10 (MBCXNAT38_S00002)>\n",
      "<XNATSimpleListing {'transfer_site_name': 'RMH', 'sae': 'SAE #12: Progression of right thalamic haemorrhage', 'nihss_baseline': '12.0', 'nihss_24hr': '20', 'nihss_1hr': '15', 'day_90_mrs': '6.0', 'day_90_due': 'RIP', 'day_90_date': 'nan', 'comment': 'nan', 'baseline_ich_volume': '11.76'}>\n",
      "<SubjectData STOPMSU004_80_04 (MBCXNAT38_S00003)>\n",
      "<XNATSimpleListing {'transfer_site_name': 'RMH', 'sae': 'SAE#5: Aspiration pneumonia', 'nihss_baseline': '20.0', 'nihss_24hr': '9', 'nihss_1hr': '19', 'day_90_mrs': '6.0', 'day_90_due': 'RIP', 'day_90_date': '5-Dec-18', 'comment': 'nan', 'baseline_ich_volume': '4.8'}>\n",
      "<SubjectData STOPMSU001_80_01 (MBCXNAT38_S00004)>\n",
      "<XNATSimpleListing {'transfer_site_name': 'RMH', 'sae': 'nan', 'nihss_baseline': '17.0', 'nihss_24hr': '18', 'nihss_1hr': '17', 'day_90_mrs': '4.0', 'day_90_due': '17-Jun-18', 'day_90_date': '14-Aug-18', 'comment': 'nan', 'baseline_ich_volume': '24.32'}>\n",
      "<SubjectData STOPMSU014_80_12 (MBCXNAT38_S00005)>\n",
      "<XNATSimpleListing {'transfer_site_name': 'RMH', 'sae': 'SAE #11: Symptomatic transient hypotensive episode', 'nihss_baseline': '12.0', 'nihss_24hr': '16', 'nihss_1hr': '11', 'day_90_mrs': '4.0', 'day_90_due': '5-Aug-19', 'day_90_date': '8-Aug-19', 'comment': 'nan', 'baseline_ich_volume': '3.69'}>\n",
      "<SubjectData STOPMSU015_80_13 (MBCXNAT38_S00006)>\n",
      "<XNATSimpleListing {'transfer_site_name': 'RMH', 'sae': 'SAE# #15: New ICH event', 'nihss_baseline': '17.0', 'nihss_24hr': '21', 'nihss_1hr': '19', 'day_90_mrs': '5.0', 'day_90_due': '4-Sep-19', 'day_90_date': '4-Sep-19', 'comment': 'Decision by HZ that ICH volume is not accurate and volume met protocol criteria', 'baseline_ich_volume': '74.58'}>\n",
      "<SubjectData STOPMSU007_80_06 (MBCXNAT38_S00007)>\n",
      "<XNATSimpleListing {'transfer_site_name': 'RMH', 'sae': 'nan', 'nihss_baseline': '24.0', 'nihss_24hr': '17', 'nihss_1hr': '24', 'day_90_mrs': '3.0', 'day_90_due': '19-Feb-19', 'day_90_date': '20-Feb-19', 'comment': 'nan', 'baseline_ich_volume': '23.64'}>\n",
      "<SubjectData STOPMSU010_01_02 (MBCXNAT38_S00008)>\n",
      "<XNATSimpleListing {'transfer_site_name': 'nan', 'sae': 'SAE #7: Non-ST elevation myocardial infarction', 'nihss_baseline': '17.0', 'nihss_24hr': '17', 'nihss_1hr': 'ND', 'day_90_mrs': '5.0', 'day_90_due': '3-May-19', 'day_90_date': '1-May-19', 'comment': 'nan', 'baseline_ich_volume': '5.61'}>\n",
      "<SubjectData STOPMSU005_01_01 (MBCXNAT38_S00009)>\n",
      "<XNATSimpleListing {'transfer_site_name': 'nan', 'sae': 'SAE #2:  Aspiration pneumonia', 'nihss_baseline': '25.0', 'nihss_24hr': '29', 'nihss_1hr': '31', 'day_90_mrs': '6.0', 'day_90_due': 'Died in hospital', 'day_90_date': 'nan', 'comment': 'nan', 'baseline_ich_volume': '40.81'}>\n",
      "<SubjectData STOPMSU002_80_02 (MBCXNAT38_S00010)>\n",
      "<XNATSimpleListing {'transfer_site_name': 'RMH', 'sae': 'nan', 'nihss_baseline': '19.0', 'nihss_24hr': '20', 'nihss_1hr': '19', 'day_90_mrs': '4.0', 'day_90_due': '17-Jun-18', 'day_90_date': '27-Jul-18', 'comment': 'nan', 'baseline_ich_volume': '32.28'}>\n",
      "<SubjectData STOPMSU013_80_11 (MBCXNAT38_S00013)>\n",
      "<XNATSimpleListing {'transfer_site_name': 'Alfred', 'sae': 'SAE #9: Urosepsis', 'nihss_baseline': '14.0', 'nihss_24hr': '13', 'nihss_1hr': '13', 'day_90_mrs': '5.0', 'day_90_due': '18-Jul-19', 'day_90_date': '13-Aug-19', 'comment': 'nan', 'baseline_ich_volume': '9.96'}>\n",
      "<SubjectData STOPMSU008_80_07 (MBCXNAT38_S00014)>\n",
      "<XNATSimpleListing {'transfer_site_name': 'RMH', 'sae': 'SAE #4: Left lobe intracerebral haemorrhage', 'nihss_baseline': '24.0', 'nihss_24hr': '35', 'nihss_1hr': '27', 'day_90_mrs': '6.0', 'day_90_due': 'Died in hospital', 'day_90_date': 'nan', 'comment': 'nan', 'baseline_ich_volume': '52.9'}>\n",
      "<SubjectData STOPMSU009_80_08 (MBCXNAT38_S00015)>\n",
      "<XNATSimpleListing {'transfer_site_name': 'RMH', 'sae': 'SAE #6:  Large intracerebral bleed', 'nihss_baseline': '19.0', 'nihss_24hr': '99', 'nihss_1hr': '19', 'day_90_mrs': '6.0', 'day_90_due': 'Died in hospital', 'day_90_date': 'nan', 'comment': 'nan', 'baseline_ich_volume': '44.62'}>\n",
      "<SubjectData STOPMSU006_80_05 (MBCXNAT38_S00016)>\n",
      "<XNATSimpleListing {'transfer_site_name': 'RMH', 'sae': 'SAE #3: Intracerebral haemorrhage extension', 'nihss_baseline': '17.0', 'nihss_24hr': '99', 'nihss_1hr': 'ND', 'day_90_mrs': '6.0', 'day_90_due': 'Died in hospital', 'day_90_date': 'nan', 'comment': 'nan', 'baseline_ich_volume': '36.2'}>\n",
      "<SubjectData STOPMSU011_80_09 (MBCXNAT38_S00017)>\n",
      "<XNATSimpleListing {'transfer_site_name': 'BHH', 'sae': 'SAE #8: Rapid deterioration', 'nihss_baseline': '13.0', 'nihss_24hr': 'ND', 'nihss_1hr': 'ND', 'day_90_mrs': '6.0', 'day_90_due': 'Died in hospital', 'day_90_date': 'nan', 'comment': 'Did not receive full IP dose', 'baseline_ich_volume': '58.69'}>\n",
      "<SubjectData STOPMSU025_80_18 (MBCXNAT41_S00001)>\n",
      "<XNATSimpleListing {'transfer_site_name': 'RMH', 'sae': 'nan', 'nihss_baseline': '11.0', 'nihss_24hr': '10', 'nihss_1hr': '11', 'day_90_mrs': '5.0', 'day_90_due': '15-Dec-19', 'day_90_date': '16-Jan-20', 'comment': 'No drug given due to multiple failed attempts at gaining IV access', 'baseline_ich_volume': '4.51'}>\n",
      "<SubjectData STOPMSU022_12_01 (MBCXNAT41_S00002)>\n",
      "<XNATSimpleListing {'transfer_site_name': 'nan', 'sae': 'nan', 'nihss_baseline': '6.0', 'nihss_24hr': '25', 'nihss_1hr': 'ND', 'day_90_mrs': '5.0', 'day_90_due': '24-Nov-19', 'day_90_date': '21-Nov-19', 'comment': 'nan', 'baseline_ich_volume': '10.44'}>\n",
      "<SubjectData STOPMSU018_09_01 (MBCXNAT41_S00003)>\n",
      "<XNATSimpleListing {'transfer_site_name': 'nan', 'sae': 'nan', 'nihss_baseline': '19.0', 'nihss_24hr': '14', 'nihss_1hr': '19', 'day_90_mrs': '3.0', 'day_90_due': '6-Oct-19', 'day_90_date': '6-Nov-19', 'comment': 'nan', 'baseline_ich_volume': '33.04'}>\n",
      "<SubjectData STOPMSU024_80_17 (MBCXNAT41_S00004)>\n",
      "<XNATSimpleListing {'transfer_site_name': 'RMH', 'sae': 'nan', 'nihss_baseline': '7.0', 'nihss_24hr': '5', 'nihss_1hr': '4', 'day_90_mrs': '2.0', 'day_90_due': '27-Nov-19', 'day_90_date': '20-Nov-19', 'comment': 'nan', 'baseline_ich_volume': '2.21'}>\n",
      "<SubjectData STOPMSU017_80_15 (MBCXNAT41_S00005)>\n",
      "<XNATSimpleListing {'transfer_site_name': 'RMH', 'sae': 'SAE #10: Right basal ganglia bleed with intrventricular extension &amp; hydrocephalus', 'nihss_baseline': '17.0', 'nihss_24hr': 'ND', 'nihss_1hr': '27', 'day_90_mrs': '6.0', 'day_90_due': 'Died in hospital', 'day_90_date': 'nan', 'comment': 'Did not receive full IP dose', 'baseline_ich_volume': '10.3'}>\n",
      "<SubjectData STOPMSU028_09_04 (MBCXNAT41_S00006)>\n",
      "<XNATSimpleListing {'transfer_site_name': 'nan', 'sae': 'nan', 'nihss_baseline': '20.0', 'nihss_24hr': '21', 'nihss_1hr': '18', 'day_90_mrs': '5.0', 'day_90_due': '6-Jan-20', 'day_90_date': '15-Jan-19', 'comment': 'WUS - IP given 1minute post estimated ICH start time', 'baseline_ich_volume': '69.98'}>\n",
      "<SubjectData STOPMSU020_01_03 (MBCXNAT41_S00007)>\n",
      "<XNATSimpleListing {'transfer_site_name': 'nan', 'sae': 'nan', 'nihss_baseline': '10.0', 'nihss_24hr': '8', 'nihss_1hr': '10', 'day_90_mrs': '2.0', 'day_90_due': '21-Oct-19', 'day_90_date': '23-Oct-19', 'comment': 'nan', 'baseline_ich_volume': '4.24'}>\n",
      "<SubjectData STOPMSU029_80_19 (MBCXNAT41_S00008)>\n",
      "<XNATSimpleListing {'transfer_site_name': 'MMC', 'sae': 'nan', 'nihss_baseline': '5.0', 'nihss_24hr': '3', 'nihss_1hr': '3', 'day_90_mrs': '2.0', 'day_90_due': '9-Jan-20', 'day_90_date': '10-Jan-20', 'comment': 'nan', 'baseline_ich_volume': '7.59'}>\n",
      "<SubjectData STOPMSU016_80_14 (MBCXNAT41_S00009)>\n",
      "<XNATSimpleListing {'transfer_site_name': 'RMH', 'sae': 'nan', 'nihss_baseline': '18.0', 'nihss_24hr': '21', 'nihss_1hr': '18', 'day_90_mrs': '4.0', 'day_90_due': '18-Sep-19', 'day_90_date': '24-Sep-19', 'comment': 'IP given as bolus in 100ml bag', 'baseline_ich_volume': '22.99'}>\n",
      "<SubjectData STOPMSU026_76_01 (MBCXNAT41_S00010)>\n",
      "<XNATSimpleListing {'transfer_site_name': 'nan', 'sae': 'nan', 'nihss_baseline': '8.0', 'nihss_24hr': '7', 'nihss_1hr': '8', 'day_90_mrs': '2.0', 'day_90_due': '20-Dec-19', 'day_90_date': '14-Jan-20', 'comment': 'nan', 'baseline_ich_volume': '14.0'}>\n",
      "<SubjectData STOPMSU023_80_16 (MBCXNAT41_S00011)>\n"
     ]
    },
    {
     "name": "stdout",
     "output_type": "stream",
     "text": [
      "<XNATSimpleListing {'transfer_site_name': 'RMH', 'sae': 'nan', 'nihss_baseline': '12.0', 'nihss_24hr': '12', 'nihss_1hr': '15', 'day_90_mrs': '4.0', 'day_90_due': '26-Nov-19', 'day_90_date': '27-Nov-19', 'comment': 'nan', 'baseline_ich_volume': '5.42'}>\n",
      "<SubjectData STOPMSU019_09_02 (MBCXNAT41_S00012)>\n",
      "<XNATSimpleListing {'transfer_site_name': 'nan', 'sae': 'SAE #13: Airway obstruction &amp; SAE #16: Aspiration pneumonia', 'nihss_baseline': '9.0', 'nihss_24hr': '99', 'nihss_1hr': '27', 'day_90_mrs': '4.0', 'day_90_due': '15-Oct-19', 'day_90_date': '18-Oct-19', 'comment': 'nan', 'baseline_ich_volume': '8.71'}>\n",
      "<SubjectData STOPMSU027_27_01 (MBCXNAT41_S00013)>\n",
      "<XNATSimpleListing {'transfer_site_name': 'nan', 'sae': 'nan', 'nihss_baseline': '12.0', 'nihss_24hr': '4', 'nihss_1hr': '13', 'day_90_mrs': '2.0', 'day_90_due': '22-Dec-19', 'day_90_date': '16-Dec-19', 'comment': 'nan', 'baseline_ich_volume': '52.8'}>\n",
      "<SubjectData STOPMSU021_09_03 (MBCXNAT41_S00014)>\n",
      "<XNATSimpleListing {'transfer_site_name': 'nan', 'sae': 'SAE #14: Stroke progression', 'nihss_baseline': '23.0', 'nihss_24hr': 'ND', 'nihss_1hr': '26', 'day_90_mrs': '6.0', 'day_90_due': 'RIP', 'day_90_date': 'nan', 'comment': 'Did not receive full IP dose (160mls given)', 'baseline_ich_volume': '18.92'}>\n",
      "<SubjectData STOPMSU032_01_04 (MBCXNAT41_S00015)>\n",
      "<XNATSimpleListing {'transfer_site_name': 'nan', 'sae': 'nan', 'nihss_baseline': '3.0', 'nihss_24hr': '3', 'nihss_1hr': '3', 'day_90_mrs': '2.0', 'day_90_due': '27-Jan-20', 'day_90_date': '28-Jan-20', 'comment': 'nan', 'baseline_ich_volume': '13.15'}>\n",
      "<SubjectData STOPMSU037_17_01 (MBCXNAT41_S00016)>\n",
      "<XNATSimpleListing {'transfer_site_name': 'nan', 'sae': 'SAE# 19: Death secondary to left frontoparietal intracranial haemorrhage', 'nihss_baseline': '17.0', 'nihss_24hr': '40', 'nihss_1hr': '19', 'day_90_mrs': '6.0', 'day_90_due': 'Died in hospital', 'day_90_date': 'nan', 'comment': 'nan', 'baseline_ich_volume': '65.86'}>\n",
      "<SubjectData STOPMSU042_76_02 (MBCXNAT41_S00017)>\n",
      "<XNATSimpleListing {'transfer_site_name': 'nan', 'sae': 'nan', 'nihss_baseline': '12.0', 'nihss_24hr': '12', 'nihss_1hr': 'ND', 'day_90_mrs': '4.0', 'day_90_due': '1-Jul-20', 'day_90_date': '8-Jul-20', 'comment': 'Infusion given as bolus', 'baseline_ich_volume': '8.16'}>\n",
      "<SubjectData STOPMSU033_80_22 (MBCXNAT41_S00018)>\n",
      "<XNATSimpleListing {'transfer_site_name': 'RMH', 'sae': 'nan', 'nihss_baseline': '19.0', 'nihss_24hr': '11', 'nihss_1hr': '19', 'day_90_mrs': '2.0', 'day_90_due': '5-Apr-20', 'day_90_date': '7-Apr-20', 'comment': 'nan', 'baseline_ich_volume': '51.06'}>\n",
      "<SubjectData STOPMSU046_54_02 (MBCXNAT41_S00019)>\n",
      "<XNATSimpleListing {'transfer_site_name': 'nan', 'sae': 'nan', 'nihss_baseline': '10.0', 'nihss_24hr': '6', 'nihss_1hr': 'ND', 'day_90_mrs': '3.0', 'day_90_due': '31-Aug-20', 'day_90_date': '31-Aug-20', 'comment': 'nan', 'baseline_ich_volume': '4.29'}>\n",
      "<SubjectData STOPMSU045_01_07 (MBCXNAT41_S00020)>\n",
      "<XNATSimpleListing {'transfer_site_name': 'nan', 'sae': 'SAE #23: Progression of right basal ganglia ICH', 'nihss_baseline': '21.0', 'nihss_24hr': 'ND', 'nihss_1hr': 'ND', 'day_90_mrs': '6.0', 'day_90_due': 'Died in hospital', 'day_90_date': 'nan', 'comment': 'nan', 'baseline_ich_volume': '30.04'}>\n",
      "<SubjectData STOPMSU039_01_06 (MBCXNAT41_S00023)>\n",
      "<XNATSimpleListing {'transfer_site_name': 'nan', 'sae': 'SAE #18: Thalamic haemorrhage with intraventricular extension', 'nihss_baseline': '21.0', 'nihss_24hr': '21', 'nihss_1hr': '20', 'day_90_mrs': '6.0', 'day_90_due': 'Died in hospital', 'day_90_date': 'nan', 'comment': 'nan', 'baseline_ich_volume': '16.25'}>\n",
      "<SubjectData STOPMSU048_01_08 (MBCXNAT41_S00024)>\n",
      "<XNATSimpleListing {'transfer_site_name': 'nan', 'sae': 'nan', 'nihss_baseline': '10.0', 'nihss_24hr': '10', 'nihss_1hr': 'ND', 'day_90_mrs': '2.0', 'day_90_due': '6-Sep-20', 'day_90_date': '3-Sep-20', 'comment': 'nan', 'baseline_ich_volume': '18.64'}>\n",
      "<SubjectData STOPMSU038_80_23 (MBCXNAT41_S00025)>\n",
      "<XNATSimpleListing {'transfer_site_name': 'Alfred', 'sae': 'nan', 'nihss_baseline': '6.0', 'nihss_24hr': '3', 'nihss_1hr': '3', 'day_90_mrs': '1.0', 'day_90_due': '28-May-20', 'day_90_date': '28-May-20', 'comment': '1 &amp; 24hr NIHSS not individually scored', 'baseline_ich_volume': '5.64'}>\n",
      "<SubjectData STOPMSU035_21_01 (MBCXNAT41_S00026)>\n",
      "<XNATSimpleListing {'transfer_site_name': 'nan', 'sae': 'nan', 'nihss_baseline': '20.0', 'nihss_24hr': '15', 'nihss_1hr': '15', 'day_90_mrs': '5.0', 'day_90_due': '29-Apr-20', 'day_90_date': '30-Apr-20', 'comment': 'IP commenced 125 mins post ICH onset', 'baseline_ich_volume': '41.3'}>\n",
      "<SubjectData STOPMSU041_12_02 (MBCXNAT41_S00027)>\n",
      "<XNATSimpleListing {'transfer_site_name': 'nan', 'sae': 'SAE #20: Worsening ICH', 'nihss_baseline': '21.0', 'nihss_24hr': '42', 'nihss_1hr': '21', 'day_90_mrs': '5.0', 'day_90_due': '18-Jun-20', 'day_90_date': '24-Jun-20', 'comment': 'Approx. 75mls ICH volume as calculated by NY', 'baseline_ich_volume': '89.32'}>\n",
      "<SubjectData STOPMSU049_56_01 (MBCXNAT41_S00028)>\n",
      "<XNATSimpleListing {'transfer_site_name': 'nan', 'sae': 'SAE# 24: Haematoma enlargement and IV extension', 'nihss_baseline': '26.0', 'nihss_24hr': '99', 'nihss_1hr': 'ND', 'day_90_mrs': '5.0', 'day_90_due': '7-Sep-20', 'day_90_date': '7-Sep-20', 'comment': 'Platelet transfusions given within 24 hrs of IP', 'baseline_ich_volume': '36.0'}>\n",
      "<SubjectData STOPMSU043_54_01 (MBCXNAT41_S00029)>\n",
      "<XNATSimpleListing {'transfer_site_name': 'nan', 'sae': 'nan', 'nihss_baseline': '18.0', 'nihss_24hr': '8', 'nihss_1hr': 'ND', 'day_90_mrs': '3.0', 'day_90_due': '15-Jul-20', 'day_90_date': '13-Jul-20', 'comment': 'nan', 'baseline_ich_volume': '17.92'}>\n",
      "<SubjectData STOPMSU034_09_05 (MBCXNAT41_S00030)>\n",
      "<XNATSimpleListing {'transfer_site_name': 'nan', 'sae': 'SAE #21: Evolution of pre-existing right frontotemporal intraparenchymal haemorrhage       SAE #22: Bacterial pneumonia (aspiriation)', 'nihss_baseline': '15.0', 'nihss_24hr': '25', 'nihss_1hr': '18', 'day_90_mrs': '6.0', 'day_90_due': 'Died in hospital', 'day_90_date': 'nan', 'comment': 'IP commenced 125 mins post ICH onset', 'baseline_ich_volume': '19.98'}>\n",
      "<SubjectData STOPMSU036_01_05 (MBCXNAT41_S00031)>\n",
      "<XNATSimpleListing {'transfer_site_name': 'nan', 'sae': 'nan', 'nihss_baseline': '10.0', 'nihss_24hr': '4', 'nihss_1hr': 'ND', 'day_90_mrs': '3.0', 'day_90_due': '16-May-20', 'day_90_date': '19-May-20', 'comment': 'nan', 'baseline_ich_volume': '3.11'}>\n",
      "<SubjectData STOPMSU031_80_21 (MBCXNAT41_S00032)>\n",
      "<XNATSimpleListing {'transfer_site_name': 'BHH', 'sae': 'nan', 'nihss_baseline': '9.0', 'nihss_24hr': '11', 'nihss_1hr': '11', 'day_90_mrs': '2.0', 'day_90_due': '27-Jan-20', 'day_90_date': '28-Jan-20', 'comment': 'nan', 'baseline_ich_volume': '3.87'}>\n",
      "<SubjectData STOPMSU044_17_03 (MBCXNAT41_S00033)>\n",
      "<XNATSimpleListing {'transfer_site_name': 'nan', 'sae': 'nan', 'nihss_baseline': '10.0', 'nihss_24hr': '12', 'nihss_1hr': '10', 'day_90_mrs': '3.0', 'day_90_due': '17-Jul-20', 'day_90_date': '21-Jul-20', 'comment': 'nan', 'baseline_ich_volume': '14.89'}>\n",
      "<SubjectData STOPMSU040_17_02 (MBCXNAT41_S00034)>\n",
      "<XNATSimpleListing {'transfer_site_name': 'nan', 'sae': 'nan', 'nihss_baseline': '6.0', 'nihss_24hr': '0', 'nihss_1hr': '12', 'day_90_mrs': '2.0', 'day_90_due': '15-Jun-20', 'day_90_date': '16-Jun-20', 'comment': 'nan', 'baseline_ich_volume': '2.43'}>\n",
      "<SubjectData STOPMSU066_06_01 (MBCXNAT42_S00001)>\n",
      "<XNATSimpleListing {'transfer_site_name': 'nan', 'sae': 'nan', 'nihss_baseline': '20.0', 'nihss_24hr': '18', 'nihss_1hr': '18', 'day_90_mrs': '4.0', 'day_90_due': '29-Jan-21', 'day_90_date': '29-Jan-21', 'comment': 'nan', 'baseline_ich_volume': '20.2'}>\n",
      "<SubjectData STOPMSU068_56_02 (MBCXNAT42_S00002)>\n",
      "<XNATSimpleListing {'transfer_site_name': 'nan', 'sae': 'SAE #29: Hamatoma expansion leading to surgical intervention                                                                        SAE #33: Pneumonia', 'nihss_baseline': '21.0', 'nihss_24hr': '99', 'nihss_1hr': 'ND', 'day_90_mrs': '5.0', 'day_90_due': '5-Feb-21', 'day_90_date': '8-Feb-21', 'comment': 'nan', 'baseline_ich_volume': '8.4'}>\n",
      "<SubjectData STOPMSU050_01_09 (MBCXNAT42_S00003)>\n",
      "<XNATSimpleListing {'transfer_site_name': 'nan', 'sae': 'SAE# 26: Left basal ganglia haemorrhage secondary to hypertension', 'nihss_baseline': '25.0', 'nihss_24hr': '25', 'nihss_1hr': '25', 'day_90_mrs': '6.0', 'day_90_due': 'Died in hospital', 'day_90_date': 'nan', 'comment': 'Incorrect kit used', 'baseline_ich_volume': '27.17'}>\n",
      "<SubjectData STOPMSU063_01_12 (MBCXNAT42_S00004)>\n"
     ]
    },
    {
     "name": "stdout",
     "output_type": "stream",
     "text": [
      "<XNATSimpleListing {'transfer_site_name': 'nan', 'sae': 'nan', 'nihss_baseline': '22.0', 'nihss_24hr': '99', 'nihss_1hr': '99', 'day_90_mrs': '3.0', 'day_90_due': '19-Jan-21', 'day_90_date': '19-Jan-21', 'comment': 'IP given 2hrs and 8 mins post ICH onset', 'baseline_ich_volume': '9.04'}>\n",
      "<SubjectData STOPMSU070_01_15 (MBCXNAT42_S00005)>\n",
      "<XNATSimpleListing {'transfer_site_name': 'MMC', 'sae': 'nan', 'nihss_baseline': '2.0', 'nihss_24hr': '0', 'nihss_1hr': '2', 'day_90_mrs': '1.0', 'day_90_due': '11-Feb-21', 'day_90_date': '15-Feb-21', 'comment': 'nan', 'baseline_ich_volume': '0.517'}>\n",
      "<SubjectData STOPMSU072_80_28 (MBCXNAT42_S00006)>\n",
      "<XNATSimpleListing {'transfer_site_name': 'RMH', 'sae': 'nan', 'nihss_baseline': '12.0', 'nihss_24hr': '2', 'nihss_1hr': '8', 'day_90_mrs': '0.0', 'day_90_due': '16-Feb-21', 'day_90_date': '15-Feb-21', 'comment': 'nan', 'baseline_ich_volume': '8.25'}>\n",
      "<SubjectData STOPMSU057_01_11 (MBCXNAT42_S00007)>\n",
      "<XNATSimpleListing {'transfer_site_name': 'nan', 'sae': 'nan', 'nihss_baseline': '16.0', 'nihss_24hr': '18', 'nihss_1hr': '18', 'day_90_mrs': '4.0', 'day_90_due': '8-Nov-20', 'day_90_date': '10-Nov-20', 'comment': 'nan', 'baseline_ich_volume': '27.58'}>\n",
      "<SubjectData STOPMSU055_17_04 (MBCXNAT42_S00008)>\n",
      "<XNATSimpleListing {'transfer_site_name': 'nan', 'sae': 'nan', 'nihss_baseline': '11.0', 'nihss_24hr': '7', 'nihss_1hr': '10', 'day_90_mrs': '0.0', 'day_90_due': '22-Oct-20', 'day_90_date': '28-Oct-20', 'comment': 'nan', 'baseline_ich_volume': '1.64'}>\n",
      "<SubjectData STOPMSU058_17_05 (MBCXNAT42_S00009)>\n",
      "<XNATSimpleListing {'transfer_site_name': 'nan', 'sae': 'nan', 'nihss_baseline': '12.0', 'nihss_24hr': '11', 'nihss_1hr': '10', 'day_90_mrs': '3.0', 'day_90_due': '16-Nov-20', 'day_90_date': '16-Nov-20', 'comment': 'nan', 'baseline_ich_volume': '1.29'}>\n",
      "<SubjectData STOPMSU053_01_10 (MBCXNAT42_S00010)>\n",
      "<XNATSimpleListing {'transfer_site_name': 'nan', 'sae': 'nan', 'nihss_baseline': '24.0', 'nihss_24hr': '14', 'nihss_1hr': '23', 'day_90_mrs': '4.0', 'day_90_due': '15-Oct-20', 'day_90_date': '22-Oct-20', 'comment': 'nan', 'baseline_ich_volume': '15.92'}>\n",
      "<SubjectData STOPMSU051_04_01 (MBCXNAT42_S00011)>\n",
      "<XNATSimpleListing {'transfer_site_name': 'nan', 'sae': 'nan', 'nihss_baseline': '16.0', 'nihss_24hr': '13', 'nihss_1hr': '11', 'day_90_mrs': '1.0', 'day_90_due': '10-Oct-20', 'day_90_date': '16-Oct-20', 'comment': 'nan', 'baseline_ich_volume': '5.53'}>\n",
      "<SubjectData STOPMSU056_04_02 (MBCXNAT42_S00012)>\n",
      "<XNATSimpleListing {'transfer_site_name': 'St Vincent&apos;s', 'sae': 'SAE #27: ICH deterioration', 'nihss_baseline': '16.0', 'nihss_24hr': '18', 'nihss_1hr': '16', 'day_90_mrs': '6.0', 'day_90_due': 'Died in hospital', 'day_90_date': 'nan', 'comment': 'Total dose not administered', 'baseline_ich_volume': '67.93'}>\n",
      "<SubjectData STOPMSU062_80_25 (MBCXNAT42_S00013)>\n",
      "<XNATSimpleListing {'transfer_site_name': 'Alfred', 'sae': 'nan', 'nihss_baseline': '27.0', 'nihss_24hr': 'ND', 'nihss_1hr': '22', 'day_90_mrs': '4.0', 'day_90_due': '4-Jan-21', 'day_90_date': '4-Jan-21', 'comment': 'nan', 'baseline_ich_volume': '38.91'}>\n",
      "<SubjectData STOPMSU064_01_13 (MBCXNAT42_S00014)>\n",
      "<XNATSimpleListing {'transfer_site_name': 'nan', 'sae': 'nan', 'nihss_baseline': '16.0', 'nihss_24hr': '17', 'nihss_1hr': '18', 'day_90_mrs': '3.0', 'day_90_due': '22-Jan-21', 'day_90_date': '22-Jan-21', 'comment': 'nan', 'baseline_ich_volume': '5.5'}>\n",
      "<SubjectData STOPMSU052_09_06 (MBCXNAT42_S00015)>\n",
      "<XNATSimpleListing {'transfer_site_name': 'nan', 'sae': 'nan', 'nihss_baseline': '12.0', 'nihss_24hr': '8', 'nihss_1hr': '21', 'day_90_mrs': '3.0', 'day_90_due': '14-Oct-20', 'day_90_date': '16-Oct-20', 'comment': 'Incorrect kit used', 'baseline_ich_volume': '4.69'}>\n",
      "<SubjectData STOPMSU071_80_27 (MBCXNAT42_S00016)>\n",
      "<XNATSimpleListing {'transfer_site_name': 'RMH', 'sae': 'nan', 'nihss_baseline': '16.0', 'nihss_24hr': '23', 'nihss_1hr': '19', 'day_90_mrs': '5.0', 'day_90_due': '14-Feb-21', 'day_90_date': '15-Feb-21', 'comment': 'nan', 'baseline_ich_volume': '16.87'}>\n",
      "<SubjectData STOPMSU069_33_03 (MBCXNAT42_S00017)>\n",
      "<XNATSimpleListing {'transfer_site_name': 'nan', 'sae': 'nan', 'nihss_baseline': '16.0', 'nihss_24hr': '12', 'nihss_1hr': '15', 'day_90_mrs': '4.0', 'day_90_due': '9-Feb-21', 'day_90_date': '12-Feb-21', 'comment': 'nan', 'baseline_ich_volume': '7.56'}>\n",
      "<SubjectData STOPMSU075_29_01 (MBCXNAT42_S00018)>\n",
      "<XNATSimpleListing {'transfer_site_name': 'nan', 'sae': 'SAE #30: Progression of stroke', 'nihss_baseline': '22.0', 'nihss_24hr': 'ND', 'nihss_1hr': '23', 'day_90_mrs': '6.0', 'day_90_due': 'Died in hospital', 'day_90_date': 'nan', 'comment': 'IP not given/ Exclusion criteria identified', 'baseline_ich_volume': '65.02'}>\n",
      "<SubjectData STOPMSU054_12_03 (MBCXNAT42_S00019)>\n",
      "<XNATSimpleListing {'transfer_site_name': 'nan', 'sae': 'SAE #25: Extension of ICH', 'nihss_baseline': '20.0', 'nihss_24hr': 'ND', 'nihss_1hr': '21', 'day_90_mrs': '6.0', 'day_90_due': 'Died in hospital', 'day_90_date': 'nan', 'comment': 'nan', 'baseline_ich_volume': '17.43'}>\n",
      "<SubjectData STOPMSU060_80_24 (MBCXNAT42_S00020)>\n",
      "<XNATSimpleListing {'transfer_site_name': 'RMH', 'sae': 'nan', 'nihss_baseline': '15.0', 'nihss_24hr': '9', 'nihss_1hr': '19', 'day_90_mrs': '3.0', 'day_90_due': '23-Dec-20', 'day_90_date': '22-Dec-20', 'comment': 'nan', 'baseline_ich_volume': '5.73'}>\n",
      "<SubjectData STOPMSU067_01_14 (MBCXNAT42_S00021)>\n",
      "<XNATSimpleListing {'transfer_site_name': 'nan', 'sae': 'SAE #29: Hamatoma expansion leading to surgical intervention                                                                        SAE #33: Pneumonia', 'nihss_baseline': '14.0', 'nihss_24hr': '12', 'nihss_1hr': '14', 'day_90_mrs': '5.0', 'day_90_due': '4-Feb-21', 'day_90_date': '3-Feb-21', 'comment': 'nan', 'baseline_ich_volume': '12.07'}>\n",
      "<SubjectData STOPMSU061_09_07 (MBCXNAT42_S00022)>\n",
      "<XNATSimpleListing {'transfer_site_name': 'nan', 'sae': 'SAE #31: Left Haemiparesis', 'nihss_baseline': '5.0', 'nihss_24hr': '4', 'nihss_1hr': '4', 'day_90_mrs': '2.0', 'day_90_due': '28-Dec-20', 'day_90_date': '29-Dec-20', 'comment': 'nan', 'baseline_ich_volume': '1.35'}>\n",
      "<SubjectData STOPMSU080_03_01 (MBCXNAT42_S00023)>\n",
      "<XNATSimpleListing {'transfer_site_name': 'nan', 'sae': 'SAE #32: Haematoma expansion', 'nihss_baseline': '12.0', 'nihss_24hr': '5', 'nihss_1hr': '12', 'day_90_mrs': '3.0', 'day_90_due': '30-Mar-21', 'day_90_date': '30-Mar-21', 'comment': 'nan', 'baseline_ich_volume': '4.5'}>\n",
      "<SubjectData STOPMSU077_12_04 (MBCXNAT42_S00024)>\n",
      "<XNATSimpleListing {'transfer_site_name': 'nan', 'sae': 'SAE #35: Bilateral DVTs', 'nihss_baseline': '25.0', 'nihss_24hr': '99', 'nihss_1hr': '99', 'day_90_mrs': 'nan', 'day_90_due': '15-Mar-21', 'day_90_date': 'nan', 'comment': 'nan', 'baseline_ich_volume': '14.029'}>\n",
      "<SubjectData STOPMSU088_77_01 (MBCXNAT42_S00025)>\n",
      "<XNATSimpleListing {'transfer_site_name': 'nan', 'sae': 'SAE #34: Worsening ICH', 'nihss_baseline': '21.0', 'nihss_24hr': '39', 'nihss_1hr': '22', 'day_90_mrs': '6.0', 'day_90_due': 'Died in hospital', 'day_90_date': 'nan', 'comment': 'Total dose not given- palliated', 'baseline_ich_volume': '8.71'}>\n",
      "<SubjectData STOPMSU082_12_05 (MBCXNAT42_S00026)>\n",
      "<XNATSimpleListing {'transfer_site_name': 'nan', 'sae': 'nan', 'nihss_baseline': '17.0', 'nihss_24hr': '15', 'nihss_1hr': '17', 'day_90_mrs': '4.0', 'day_90_due': '7-May-21', 'day_90_date': '14-May-21', 'comment': 'Pt on apixiban (discovered halfway through 8hr infusion). Treatment completed over 8 hrs', 'baseline_ich_volume': '33.4'}>\n",
      "<SubjectData STOPMSU087_80_31 (MBCXNAT42_S00027)>\n",
      "<XNATSimpleListing {'transfer_site_name': 'RMH', 'sae': 'SAE #34: Worsening ICH', 'nihss_baseline': '20.0', 'nihss_24hr': '99', 'nihss_1hr': '99', 'day_90_mrs': '4.0', 'day_90_due': '19-May-21', 'day_90_date': '14-May-21', 'comment': 'Total dose not given- palliated', 'baseline_ich_volume': '13.33'}>\n",
      "<SubjectData STOPMSU079_01_17 (MBCXNAT42_S00028)>\n",
      "<XNATSimpleListing {'transfer_site_name': 'nan', 'sae': 'nan', 'nihss_baseline': '6.0', 'nihss_24hr': '5', 'nihss_1hr': '6', 'day_90_mrs': '0.0', 'day_90_due': '29-Mar-21', 'day_90_date': '26-Mar-21', 'comment': '24 hr MRI (not CT/CTP)', 'baseline_ich_volume': '11.09'}>\n",
      "<SubjectData STOPMSU089_56_04 (MBCXNAT42_S00029)>\n"
     ]
    },
    {
     "name": "stdout",
     "output_type": "stream",
     "text": [
      "<XNATSimpleListing {'transfer_site_name': 'nan', 'sae': 'nan', 'nihss_baseline': '12.0', 'nihss_24hr': '9', 'nihss_1hr': 'ND', 'day_90_mrs': '4.0', 'day_90_due': '1-Jun-21', 'day_90_date': '1-Jun-21', 'comment': 'Infusion commenced 1.25 hours post bolus', 'baseline_ich_volume': '9.35'}>\n",
      "<SubjectData STOPMSU085_80_30 (MBCXNAT42_S00030)>\n",
      "<XNATSimpleListing {'transfer_site_name': 'Austin', 'sae': 'nan', 'nihss_baseline': '19.0', 'nihss_24hr': '13', 'nihss_1hr': '18', 'day_90_mrs': '3.0', 'day_90_due': '17-May-21', 'day_90_date': '14-May-21', 'comment': 'nan', 'baseline_ich_volume': '7.0'}>\n",
      "<SubjectData STOPMSU086_56_03 (MBCXNAT42_S00031)>\n",
      "<XNATSimpleListing {'transfer_site_name': 'RMH', 'sae': 'nan', 'nihss_baseline': '4.0', 'nihss_24hr': '4', 'nihss_1hr': 'ND', 'day_90_mrs': '1.0', 'day_90_due': '19-May-21', 'day_90_date': '18-May-21', 'comment': 'nan', 'baseline_ich_volume': '3.7'}>\n",
      "<SubjectData STOPMSU081_06_02 (MBCXNAT42_S00032)>\n",
      "<XNATSimpleListing {'transfer_site_name': 'nan', 'sae': 'SAE #32: Haematoma expansion', 'nihss_baseline': '26.0', 'nihss_24hr': '38', 'nihss_1hr': '30', 'day_90_mrs': '6.0', 'day_90_due': 'Died in hospital', 'day_90_date': 'nan', 'comment': 'nan', 'baseline_ich_volume': '41.31'}>\n",
      "<SubjectData STOPMSU076_01_16 (MBCXNAT42_S00033)>\n",
      "<XNATSimpleListing {'transfer_site_name': 'nan', 'sae': 'nan', 'nihss_baseline': '8.0', 'nihss_24hr': '8', 'nihss_1hr': '7', 'day_90_mrs': '4.0', 'day_90_due': '6-Mar-21', 'day_90_date': '2-Mar-21', 'comment': 'IP not given/ Exclusion criteria identified', 'baseline_ich_volume': '4.13'}>\n",
      "<SubjectData STOPMSU083_09_08 (MBCXNAT42_S00034)>\n",
      "<XNATSimpleListing {'transfer_site_name': 'Austin', 'sae': 'nan', 'nihss_baseline': '28.0', 'nihss_24hr': '23', 'nihss_1hr': '28', 'day_90_mrs': '4.0', 'day_90_due': '10-May-21', 'day_90_date': '10-May-21', 'comment': 'Pt on apixiban (discovered halfway through 8hr infusion). Treatment completed over 8 hrs', 'baseline_ich_volume': '18.9'}>\n",
      "<SubjectData STOPMSU084_80_29 (MBCXNAT42_S00035)>\n",
      "<XNATSimpleListing {'transfer_site_name': 'Austin', 'sae': 'nan', 'nihss_baseline': '12.0', 'nihss_24hr': '3', 'nihss_1hr': '19', 'day_90_mrs': '1.0', 'day_90_due': '11-May-21', 'day_90_date': '10-May-21', 'comment': 'nan', 'baseline_ich_volume': '5.54'}>\n",
      "<SubjectData STOPMSU097_30_01 (MBCXNAT42_S00036)>\n",
      "<XNATSimpleListing {'transfer_site_name': 'nan', 'sae': 'nan', 'nihss_baseline': '16.0', 'nihss_24hr': '16', 'nihss_1hr': '17', 'day_90_mrs': 'nan', 'day_90_due': '11-Sep-21', 'day_90_date': 'nan', 'comment': 'IP infusion ceased early due to seizure', 'baseline_ich_volume': '49.89'}>\n",
      "<SubjectData STOPMSU109_01_21 (MBCXNAT42_S00037)>\n",
      "<XNATSimpleListing {'transfer_site_name': 'nan', 'sae': 'nan', 'nihss_baseline': '7.0', 'nihss_24hr': '3', 'nihss_1hr': '7', 'day_90_mrs': 'nan', 'day_90_due': '6-Dec-21', 'day_90_date': 'nan', 'comment': 'nan', 'baseline_ich_volume': '0.98'}>\n",
      "<SubjectData STOPMSU093_01_18 (MBCXNAT42_S00038)>\n",
      "<XNATSimpleListing {'transfer_site_name': 'nan', 'sae': 'nan', 'nihss_baseline': '14.0', 'nihss_24hr': 'ND', 'nihss_1hr': '13', 'day_90_mrs': '5.0', 'day_90_due': '14-Jul-21', 'day_90_date': '7-Jul-21', 'comment': 'nan', 'baseline_ich_volume': '12.5'}>\n",
      "<SubjectData STOPMSU092_80_32 (MBCXNAT42_S00039)>\n",
      "<XNATSimpleListing {'transfer_site_name': 'RMH', 'sae': 'nan', 'nihss_baseline': '19.0', 'nihss_24hr': '99', 'nihss_1hr': '99', 'day_90_mrs': '5.0', 'day_90_due': '28-Jun-21', 'day_90_date': '22-Jun-21', 'comment': 'IP commenced 1min late', 'baseline_ich_volume': '40.74'}>\n",
      "<SubjectData STOPMSU107_01_20 (MBCXNAT42_S00040)>\n",
      "<XNATSimpleListing {'transfer_site_name': 'nan', 'sae': 'nan', 'nihss_baseline': '20.0', 'nihss_24hr': '20', 'nihss_1hr': '20', 'day_90_mrs': 'nan', 'day_90_due': '23-Nov-21', 'day_90_date': 'nan', 'comment': 'nan', 'baseline_ich_volume': '2.02'}>\n",
      "<SubjectData STOPMSU101_30_02 (MBCXNAT42_S00041)>\n",
      "<XNATSimpleListing {'transfer_site_name': 'nan', 'sae': 'nan', 'nihss_baseline': '15.0', 'nihss_24hr': '15', 'nihss_1hr': '13', 'day_90_mrs': 'nan', 'day_90_due': '12-Oct-21', 'day_90_date': 'nan', 'comment': 'nan', 'baseline_ich_volume': 'nan'}>\n",
      "<SubjectData STOPMSU090_06_03 (MBCXNAT42_S00042)>\n",
      "<XNATSimpleListing {'transfer_site_name': 'nan', 'sae': 'SAE #36: Progression of stroke', 'nihss_baseline': '11.0', 'nihss_24hr': '7', 'nihss_1hr': '11', 'day_90_mrs': '2.0', 'day_90_due': '9-Jun-21', 'day_90_date': '17-Jun-21', 'comment': 'IP commenced 4mins late', 'baseline_ich_volume': '13.45'}>\n",
      "<SubjectData STOPMSU099_03_02 (MBCXNAT42_S00043)>\n",
      "<XNATSimpleListing {'transfer_site_name': 'nan', 'sae': 'nan', 'nihss_baseline': '7.0', 'nihss_24hr': '5', 'nihss_1hr': '7', 'day_90_mrs': 'nan', 'day_90_due': '27-Sep-21', 'day_90_date': 'nan', 'comment': 'Half of IP infusion given over 1 hour', 'baseline_ich_volume': '7.87'}>\n",
      "<SubjectData STOPMSU094_06_04 (MBCXNAT42_S00044)>\n",
      "<XNATSimpleListing {'transfer_site_name': 'nan', 'sae': 'nan', 'nihss_baseline': '25.0', 'nihss_24hr': '21', 'nihss_1hr': '23', 'day_90_mrs': '5.0', 'day_90_due': '5-Aug-21', 'day_90_date': '30-Jul-21', 'comment': 'nan', 'baseline_ich_volume': '18.36'}>\n",
      "<SubjectData STOPMSU104_06_06 (MBCXNAT42_S00045)>\n",
      "<XNATSimpleListing {'transfer_site_name': 'RMH', 'sae': 'SAE #37: L) Craniotomy and drainage of L) frontal Intraparenchymal Haematoma', 'nihss_baseline': '7.0', 'nihss_24hr': '12', 'nihss_1hr': '8', 'day_90_mrs': 'nan', 'day_90_due': '1-Nov-21', 'day_90_date': 'nan', 'comment': 'nan', 'baseline_ich_volume': '8.1'}>\n",
      "<SubjectData STOPMSU105_80_33 (MBCXNAT42_S00046)>\n",
      "<XNATSimpleListing {'transfer_site_name': 'RMH', 'sae': 'SAE #37: L) Craniotomy and drainage of L) frontal Intraparenchymal Haematoma', 'nihss_baseline': '4.0', 'nihss_24hr': '16', 'nihss_1hr': '4', 'day_90_mrs': 'nan', 'day_90_due': '10-Nov-21', 'day_90_date': 'nan', 'comment': 'nan', 'baseline_ich_volume': '1.57'}>\n",
      "<SubjectData STOPMSU098_01_19 (MBCXNAT42_S00047)>\n",
      "<XNATSimpleListing {'transfer_site_name': 'nan', 'sae': 'nan', 'nihss_baseline': '5.0', 'nihss_24hr': '3', 'nihss_1hr': '5', 'day_90_mrs': 'nan', 'day_90_due': '21-Sep-21', 'day_90_date': 'nan', 'comment': 'IP infusion ceased early due to seizure', 'baseline_ich_volume': '1.32'}>\n",
      "<SubjectData STOPMSU106_30_03 (MBCXNAT42_S00048)>\n",
      "<XNATSimpleListing {'transfer_site_name': 'nan', 'sae': 'nan', 'nihss_baseline': '4.0', 'nihss_24hr': '1', 'nihss_1hr': '4', 'day_90_mrs': 'nan', 'day_90_due': '18-Nov-21', 'day_90_date': 'nan', 'comment': 'nan', 'baseline_ich_volume': 'nan'}>\n"
     ]
    }
   ],
   "source": [
    "# Connect to remote xnat server\n",
    "with x.connect('https://dev-xnat.thembc.com.au', user=uname, password=pword) as session:\n",
    "    \n",
    "    # List out projects and let user select\n",
    "    all_projects = session.projects\n",
    "    user_project = get_user_project(all_projects)\n",
    "    xnat_project = session.projects[user_project]\n",
    "    \n",
    "    \n",
    "    # Loop each subject in the project\n",
    "    for case in xnat_project.subjects.values():\n",
    "        print(case)\n",
    "    \n",
    "        # Loop over and assign values from csv to required custom variable\n",
    "        to_find = case.label\n",
    "        for cvar in variables:\n",
    "            case.fields[cvar] = df.loc[to_find,[cvar]]\n",
    "        print(case.fields)\n"
   ]
  },
  {
   "cell_type": "code",
   "execution_count": null,
   "id": "f614234b",
   "metadata": {},
   "outputs": [],
   "source": [
    "session = x.connect('https://xnat.thembc.com.au', user=uname, password=pword)"
   ]
  },
  {
   "cell_type": "code",
   "execution_count": null,
   "id": "2a851503",
   "metadata": {},
   "outputs": [],
   "source": [
    "sandbox_project = session.projects['XNAT_DTEST']"
   ]
  },
  {
   "cell_type": "code",
   "execution_count": null,
   "id": "43e2b968",
   "metadata": {},
   "outputs": [],
   "source": [
    "sandbox_project.subjects.values()"
   ]
  },
  {
   "cell_type": "code",
   "execution_count": null,
   "id": "341454bd",
   "metadata": {
    "scrolled": true
   },
   "outputs": [],
   "source": [
    "for case in sandbox_project.subjects.values():\n",
    "    print(case)\n",
    "    to_find = case.label\n",
    "    case.fields['volume'] = df.loc[to_find,['volume']]\n",
    "    case.fields['ara_scale'] = df.loc[to_find,['ara_scale']]\n",
    "    case.fields['nra_scale'] = df.loc[to_find,['nra_scale']]\n",
    "    case.fields['qc_check'] = df.loc[to_find,['qc_check']]\n",
    "    print(case.fields)    "
   ]
  },
  {
   "cell_type": "code",
   "execution_count": null,
   "id": "7e85fc90",
   "metadata": {},
   "outputs": [],
   "source": [
    "for case in sandbox_project.subjects.values():\n",
    "    print(case.label)"
   ]
  },
  {
   "cell_type": "code",
   "execution_count": null,
   "id": "fe4145d2",
   "metadata": {},
   "outputs": [],
   "source": [
    "case = sandbox_project.subjects['XTEST_002']\n",
    "type(case.subject)"
   ]
  },
  {
   "cell_type": "code",
   "execution_count": null,
   "id": "d87add18",
   "metadata": {},
   "outputs": [],
   "source": [
    "session.disconnect()"
   ]
  },
  {
   "cell_type": "markdown",
   "id": "938d5768",
   "metadata": {},
   "source": [
    "## Testing"
   ]
  },
  {
   "cell_type": "code",
   "execution_count": null,
   "id": "1ae56e5c",
   "metadata": {},
   "outputs": [],
   "source": [
    "project = red.Project(api_url, api_key)"
   ]
  },
  {
   "cell_type": "code",
   "execution_count": null,
   "id": "7457686f",
   "metadata": {},
   "outputs": [],
   "source": []
  },
  {
   "cell_type": "code",
   "execution_count": null,
   "id": "f6acfedf",
   "metadata": {},
   "outputs": [],
   "source": [
    "df.columns = [x.lower() for x in df.columns]\n",
    "# df.set_index(keys='subject', inplace=True)\n",
    "variables = list(df.columns)"
   ]
  },
  {
   "cell_type": "code",
   "execution_count": null,
   "id": "d5e3b67d",
   "metadata": {},
   "outputs": [],
   "source": [
    "variables"
   ]
  },
  {
   "cell_type": "code",
   "execution_count": null,
   "id": "a71f08ff",
   "metadata": {},
   "outputs": [],
   "source": []
  },
  {
   "cell_type": "code",
   "execution_count": null,
   "id": "8f311c47",
   "metadata": {},
   "outputs": [],
   "source": [
    "def quality_check(to_find):\n",
    "    qc_check = 'pass'\n",
    "    for cvar in variables:\n",
    "        to_check = df.loc[to_find,[cvar]].values[0]\n",
    "        if np.isnan(to_check):\n",
    "            qc_check = 'fail'\n",
    "            return qc_check        \n",
    "        if cvar == 'volume':\n",
    "            if (to_check < 50) or (to_check > 80):\n",
    "                qc_check = 'recheck'\n",
    "        if cvar == 'ara_scale':\n",
    "            if (to_check < 0) or (to_check > 10):\n",
    "                qc_check = 'recheck'\n",
    "        if cvar == 'nra_scale':\n",
    "            if (to_check < 0) or (to_check > 5):\n",
    "                qc_check = 'recheck'\n",
    "    return qc_check"
   ]
  },
  {
   "cell_type": "code",
   "execution_count": null,
   "id": "498b9403",
   "metadata": {},
   "outputs": [],
   "source": [
    "dsf"
   ]
  },
  {
   "cell_type": "code",
   "execution_count": null,
   "id": "0f354a5d",
   "metadata": {
    "scrolled": true
   },
   "outputs": [],
   "source": [
    "variables =  list(df.columns)"
   ]
  },
  {
   "cell_type": "code",
   "execution_count": null,
   "id": "f9814157",
   "metadata": {},
   "outputs": [],
   "source": [
    "variables"
   ]
  },
  {
   "cell_type": "code",
   "execution_count": null,
   "id": "ea8f2a77",
   "metadata": {},
   "outputs": [],
   "source": [
    "for var in variables:\n",
    "    case.fields[var] = df.loc[to_find,[var]]"
   ]
  },
  {
   "cell_type": "code",
   "execution_count": null,
   "id": "f64e470d",
   "metadata": {},
   "outputs": [],
   "source": [
    "def get_user_project(all_projects):\n",
    "    proj_list = []\n",
    "    for proj in session.projects:\n",
    "        proj_list.append(proj)\n",
    "        print(proj)\n",
    "    \n",
    "    user_input = ''\n",
    "    while user_input not in proj_list:\n",
    "        user_input = input('Select the correct project').upper()\n",
    "        \n",
    "    print(f'Selected project : {user_input}')\n",
    "    return user_input"
   ]
  },
  {
   "cell_type": "code",
   "execution_count": null,
   "id": "45be7021",
   "metadata": {
    "scrolled": false
   },
   "outputs": [],
   "source": [
    "with x.connect('https://xnat.thembc.com.au', user=uname, password=pword) as session:\n",
    "    all_projects = session.projects\n",
    "    user_project = get_user_project(all_projects)\n",
    "    xnat_project = session.projects[user_project]\n",
    "    for case in xnat_project.subjects.values():\n",
    "        print(case)\n",
    "        to_find = case.labeldf.loc[to_find,[cvar]]\n",
    "        for cvar in variables:\n",
    "            case.fields[cvar] = df.loc[to_find,[cvar]]\n",
    "        print(case.fields)"
   ]
  },
  {
   "cell_type": "code",
   "execution_count": null,
   "id": "9b665c95",
   "metadata": {},
   "outputs": [],
   "source": [
    "def quality_check(to_find):\n",
    "    qc_check = 'pass'\n",
    "    for cvar in variables:\n",
    "        to_check = df.loc[to_find,[cvar]].values[0]\n",
    "        print(cvar , to_check)\n",
    "        if np.isnan(to_check):\n",
    "            qc_check = 'fail'\n",
    "            return qc_check        \n",
    "        if cvar == 'volume':\n",
    "            if (to_check < 50) or (to_check > 80):\n",
    "                qc_check = 'recheck'\n",
    "        if cvar == 'ara_scale':\n",
    "            if (to_check < 0) or (to_check > 10):\n",
    "                qc_check = 'recheck'\n",
    "        if cvar == 'nra_scale':\n",
    "            if (to_check < 0) or (to_check > 5):\n",
    "                qc_check = 'recheck'\n",
    "    return qc_check\n"
   ]
  },
  {
   "cell_type": "code",
   "execution_count": null,
   "id": "d379f3b6",
   "metadata": {},
   "outputs": [],
   "source": [
    "   \n",
    "qc_check = quality_check('XTEST_008')\n",
    "print(qc_check)"
   ]
  },
  {
   "cell_type": "code",
   "execution_count": null,
   "id": "1ded62f6",
   "metadata": {},
   "outputs": [],
   "source": [
    "session.disconnect()"
   ]
  },
  {
   "cell_type": "markdown",
   "id": "964d48a4",
   "metadata": {},
   "source": [
    "# Visit Data"
   ]
  },
  {
   "cell_type": "code",
   "execution_count": null,
   "id": "0349356d",
   "metadata": {},
   "outputs": [],
   "source": [
    "with x.connect('http://45.113.232.108', user=uname, password=pword) as session:\n",
    "    \n",
    "    # List out projects and let user select\n",
    "    sel_project = session.projects['TP_MXBAT']\n",
    "    for case in sel_project.subjects.values():\n",
    "        print(case.label)\n",
    "        exp_ = case.experiments.values()\n",
    "        for each in exp_:\n",
    "            print(type(each))\n",
    "#         for case_exp in exp_:\n",
    "#            print(case_exp)\n",
    "#             for each_session in case_exp:\n",
    "#                 print(each_session)\n",
    "        print(\"************\")\n",
    "        \n"
   ]
  },
  {
   "cell_type": "code",
   "execution_count": null,
   "id": "3a87db22",
   "metadata": {
    "scrolled": true
   },
   "outputs": [],
   "source": []
  },
  {
   "cell_type": "code",
   "execution_count": null,
   "id": "c4b7e6bb",
   "metadata": {},
   "outputs": [],
   "source": [
    "def create_table(table):\n",
    "    # Create mapping dictionary from a text file\n",
    "    mapdic = {}\n",
    "    with open(table, 'r') as transt_file:\n",
    "        for line in transt_file:\n",
    "            tup = line.strip('\\n').strip(',').split(',')\n",
    "            for i in range(len(tup)-1):\n",
    "                mapdic[tup[i+1]] = tup[0]\n",
    "\n",
    "    return mapdic\n",
    "\n",
    "table = \"../table.txt\"\n",
    "dic = create_table(table)"
   ]
  },
  {
   "cell_type": "code",
   "execution_count": null,
   "id": "13821678",
   "metadata": {},
   "outputs": [],
   "source": []
  },
  {
   "cell_type": "code",
   "execution_count": null,
   "id": "2231e010",
   "metadata": {},
   "outputs": [],
   "source": []
  },
  {
   "cell_type": "code",
   "execution_count": null,
   "id": "b3c5726d",
   "metadata": {},
   "outputs": [],
   "source": [
    "df[\"index\"] = df.index.astype(str)\n",
    "\n",
    "def temp_func(temp_var):\n",
    "    return dic[temp_var]\n",
    "\n",
    "df[\"index\"] = df[\"index\"].apply(temp_func)\n",
    "df.set_index(\"index\",inplace=True)"
   ]
  },
  {
   "cell_type": "code",
   "execution_count": null,
   "id": "d28efb40",
   "metadata": {},
   "outputs": [],
   "source": [
    "# df.drop('column_name', axis=1, inplace=True)"
   ]
  },
  {
   "cell_type": "code",
   "execution_count": null,
   "id": "c22abd61",
   "metadata": {},
   "outputs": [],
   "source": []
  }
 ],
 "metadata": {
  "kernelspec": {
   "display_name": "Python 3 (ipykernel)",
   "language": "python",
   "name": "python3"
  },
  "language_info": {
   "codemirror_mode": {
    "name": "ipython",
    "version": 3
   },
   "file_extension": ".py",
   "mimetype": "text/x-python",
   "name": "python",
   "nbconvert_exporter": "python",
   "pygments_lexer": "ipython3",
   "version": "3.8.11"
  }
 },
 "nbformat": 4,
 "nbformat_minor": 5
}
