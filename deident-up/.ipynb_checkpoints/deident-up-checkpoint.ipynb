{
 "cells": [
  {
   "cell_type": "code",
   "execution_count": 1,
   "id": "2f33ea13",
   "metadata": {},
   "outputs": [],
   "source": [
    "import xnat as x\n",
    "# import random\n",
    "import numpy as np\n",
    "import pydicom"
   ]
  },
  {
   "cell_type": "code",
   "execution_count": 3,
   "id": "0b5698fd",
   "metadata": {},
   "outputs": [
    {
     "name": "stdout",
     "output_type": "stream",
     "text": [
      "pwd MBCrmh2020#\n"
     ]
    }
   ],
   "source": [
    "uname = 'brokaha'\n",
    "pword = input('pwd ')"
   ]
  },
  {
   "cell_type": "code",
   "execution_count": null,
   "id": "cea9db8e",
   "metadata": {},
   "outputs": [],
   "source": [
    "def create_table(table):\n",
    "    # Create mapping dictionary from a text file\n",
    "    mapdic = {}\n",
    "    with open(table, 'r') as transt_file:\n",
    "        for line in transt_file:\n",
    "            tup = line.strip('\\n').strip(',').split(',')\n",
    "            for i in range(len(tup)-1):\n",
    "                mapdic[tup[i+1]] = tup[0]\n",
    "\n",
    "    return mapdic\n",
    "\n",
    "dic = {}\n",
    "\n",
    "file = '../../TABLE.txt'\n",
    "\n",
    "dic = create_table(file)\n",
    "print(dic)"
   ]
  },
  {
   "cell_type": "code",
   "execution_count": null,
   "id": "85e4cc5f",
   "metadata": {},
   "outputs": [],
   "source": [
    "with x.connect('https://xnat.thembc.com.au', user=uname, password=pword) as session:\n",
    "    # Create a new name for subject and experiment\n",
    "    prearc = session.prearchive.sessions()\n",
    "    for pas in prearc:\n",
    "        print(pas)\n",
    "        work_subject = pas.subject\n",
    "        try:\n",
    "            subject_name = dic[work_subject]\n",
    "            nr = random.randint(0, 99)\n",
    "            exp_name = f'{subject_name}_{nr}'\n",
    "            print(f'Study ID : {work_subject}: Subject Name : {subject_name} / Session Name : {exp_name}')\n",
    "            pas.archive(subject=subject_name, experiment=exp_name)\n",
    "        except:\n",
    "            print(\"Subject not present in Table\")"
   ]
  },
  {
   "cell_type": "code",
   "execution_count": null,
   "id": "395428f1",
   "metadata": {},
   "outputs": [],
   "source": [
    "with x.connect('https://xnat.thembc.com.au', user=uname, password=pword) as session:\n",
    "    proj = session.projects['XNAT_DTEST']\n",
    "    subj = proj.subjects['XTEST_002']\n",
    "    expr = subj.experiments['XTEST_002_33']\n",
    "    scan = expr.scans['11']\n",
    "    ds = scan.read_dicom()\n",
    "    studytime, sep, tail = (ds.StudyTime).partition('.')\n",
    "    label = f'{ds.StudyDate}T{studytime}'\n",
    "    print(label)\n"
   ]
  },
  {
   "cell_type": "code",
   "execution_count": null,
   "id": "48aae426",
   "metadata": {},
   "outputs": [],
   "source": [
    "with x.connect('https://xnat.thembc.com.au', user=uname, password=pword) as session:\n",
    "    prearc = session.prearchive.sessions()\n",
    "    for eachp in prearc:\n",
    "        work_subject = eachp.subject\n",
    "#         print(work_subject, eachp.scans)\n",
    "        scan = eachp.scans\n",
    "        for sd in scan:\n",
    "            ds = sd.read_dicom()\n",
    "            studytime, sep, tail = (ds.StudyTime).partition('.')\n",
    "            label = f'{ds.StudyDate}T{studytime}'\n",
    "            print(label)\n",
    "            break\n",
    "        \n",
    "        try:\n",
    "            subject_name = dic[work_subject]\n",
    "# #             nr = random.randint(0, 99)\n",
    "            exp_name = label\n",
    "            print(f'Study ID : {work_subject}: Subject Name : {subject_name} / Session Name : {exp_name}')\n",
    "            eachp.archive(subject=subject_name, experiment=exp_name)\n",
    "        except:\n",
    "            print(\"Subject not present in Table\")\n"
   ]
  },
  {
   "cell_type": "code",
   "execution_count": null,
   "id": "4c3c9941",
   "metadata": {},
   "outputs": [],
   "source": [
    "if work_subject in dic:\n",
    "    scan = eachp.scans\n",
    "    for sd in scan:\n",
    "        ds = sd.read_dicom()\n",
    "        studytime, sep, tail = (ds.StudyTime).partition('.')\n",
    "        label = f'{ds.StudyDate}T{studytime}'\n",
    "        print(label)\n",
    "        break\n",
    "            \n",
    "    subject_name = dic[work_subject]\n",
    "    exp_name = label\n",
    "    print(f'Study ID : {work_subject}: Subject Name : {subject_name} / Session Name : {exp_name}')\n",
    "    eachp.archive(subject=subject_name, experiment=exp_name)\n",
    "else:\n",
    "    print(\"Subject not present in Table\")"
   ]
  },
  {
   "cell_type": "code",
   "execution_count": null,
   "id": "01ffe4ee",
   "metadata": {},
   "outputs": [],
   "source": []
  },
  {
   "cell_type": "code",
   "execution_count": null,
   "id": "39e6b5f0",
   "metadata": {},
   "outputs": [],
   "source": [
    "with x.connect('https://xnat.thembc.com.au', user=uname, password=pword) as session:\n",
    "    # Create a new name for subject and experiment\n",
    "    prearc = session.prearchive.sessions()\n",
    "    for pas in prearc:\n",
    "        print(pas)\n",
    "        work_subject = pas.subject\n",
    "        try:\n",
    "            subject_name = dic[work_subject]\n",
    "            nr = random.randint(0, 99)\n",
    "            exp_name = f'{subject_name}_{nr}'\n",
    "            print(f'Study ID : {work_subject}: Subject Name : {subject_name} / Session Name : {exp_name}')\n",
    "            pas.archive(subject=subject_name, experiment=exp_name)\n",
    "        except:\n",
    "            print(\"Subject not present in Table\")"
   ]
  },
  {
   "cell_type": "code",
   "execution_count": null,
   "id": "45a8bd7c",
   "metadata": {},
   "outputs": [],
   "source": []
  }
 ],
 "metadata": {
  "kernelspec": {
   "display_name": "Python 3 (ipykernel)",
   "language": "python",
   "name": "python3"
  },
  "language_info": {
   "codemirror_mode": {
    "name": "ipython",
    "version": 3
   },
   "file_extension": ".py",
   "mimetype": "text/x-python",
   "name": "python",
   "nbconvert_exporter": "python",
   "pygments_lexer": "ipython3",
   "version": "3.8.11"
  }
 },
 "nbformat": 4,
 "nbformat_minor": 5
}
